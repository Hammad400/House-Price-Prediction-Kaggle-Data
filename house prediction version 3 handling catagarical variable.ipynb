{
 "cells": [
  {
   "cell_type": "markdown",
   "id": "aging-corporation",
   "metadata": {},
   "source": [
    "### loading libraries"
   ]
  },
  {
   "cell_type": "code",
   "execution_count": 1,
   "id": "hired-aquarium",
   "metadata": {},
   "outputs": [],
   "source": [
    "import pandas as pd\n",
    "import numpy as np\n",
    "import matplotlib.pyplot as plt\n",
    "import seaborn as sns"
   ]
  },
  {
   "cell_type": "markdown",
   "id": "proof-budapest",
   "metadata": {},
   "source": [
    "### loading data"
   ]
  },
  {
   "cell_type": "code",
   "execution_count": 2,
   "id": "pleasant-blanket",
   "metadata": {},
   "outputs": [],
   "source": [
    "df=pd.read_csv('train.csv')\n",
    "df.index = df.index + 1"
   ]
  },
  {
   "cell_type": "code",
   "execution_count": 3,
   "id": "civil-backing",
   "metadata": {},
   "outputs": [
    {
     "data": {
      "text/html": [
       "<div>\n",
       "<style scoped>\n",
       "    .dataframe tbody tr th:only-of-type {\n",
       "        vertical-align: middle;\n",
       "    }\n",
       "\n",
       "    .dataframe tbody tr th {\n",
       "        vertical-align: top;\n",
       "    }\n",
       "\n",
       "    .dataframe thead th {\n",
       "        text-align: right;\n",
       "    }\n",
       "</style>\n",
       "<table border=\"1\" class=\"dataframe\">\n",
       "  <thead>\n",
       "    <tr style=\"text-align: right;\">\n",
       "      <th></th>\n",
       "      <th>Id</th>\n",
       "      <th>MSSubClass</th>\n",
       "      <th>MSZoning</th>\n",
       "      <th>LotFrontage</th>\n",
       "      <th>LotArea</th>\n",
       "      <th>Street</th>\n",
       "      <th>Alley</th>\n",
       "      <th>LotShape</th>\n",
       "      <th>LandContour</th>\n",
       "      <th>Utilities</th>\n",
       "      <th>...</th>\n",
       "      <th>PoolArea</th>\n",
       "      <th>PoolQC</th>\n",
       "      <th>Fence</th>\n",
       "      <th>MiscFeature</th>\n",
       "      <th>MiscVal</th>\n",
       "      <th>MoSold</th>\n",
       "      <th>YrSold</th>\n",
       "      <th>SaleType</th>\n",
       "      <th>SaleCondition</th>\n",
       "      <th>SalePrice</th>\n",
       "    </tr>\n",
       "  </thead>\n",
       "  <tbody>\n",
       "    <tr>\n",
       "      <th>1</th>\n",
       "      <td>1</td>\n",
       "      <td>60</td>\n",
       "      <td>RL</td>\n",
       "      <td>65.0</td>\n",
       "      <td>8450</td>\n",
       "      <td>Pave</td>\n",
       "      <td>NaN</td>\n",
       "      <td>Reg</td>\n",
       "      <td>Lvl</td>\n",
       "      <td>AllPub</td>\n",
       "      <td>...</td>\n",
       "      <td>0</td>\n",
       "      <td>NaN</td>\n",
       "      <td>NaN</td>\n",
       "      <td>NaN</td>\n",
       "      <td>0</td>\n",
       "      <td>2</td>\n",
       "      <td>2008</td>\n",
       "      <td>WD</td>\n",
       "      <td>Normal</td>\n",
       "      <td>208500</td>\n",
       "    </tr>\n",
       "    <tr>\n",
       "      <th>2</th>\n",
       "      <td>2</td>\n",
       "      <td>20</td>\n",
       "      <td>RL</td>\n",
       "      <td>80.0</td>\n",
       "      <td>9600</td>\n",
       "      <td>Pave</td>\n",
       "      <td>NaN</td>\n",
       "      <td>Reg</td>\n",
       "      <td>Lvl</td>\n",
       "      <td>AllPub</td>\n",
       "      <td>...</td>\n",
       "      <td>0</td>\n",
       "      <td>NaN</td>\n",
       "      <td>NaN</td>\n",
       "      <td>NaN</td>\n",
       "      <td>0</td>\n",
       "      <td>5</td>\n",
       "      <td>2007</td>\n",
       "      <td>WD</td>\n",
       "      <td>Normal</td>\n",
       "      <td>181500</td>\n",
       "    </tr>\n",
       "    <tr>\n",
       "      <th>3</th>\n",
       "      <td>3</td>\n",
       "      <td>60</td>\n",
       "      <td>RL</td>\n",
       "      <td>68.0</td>\n",
       "      <td>11250</td>\n",
       "      <td>Pave</td>\n",
       "      <td>NaN</td>\n",
       "      <td>IR1</td>\n",
       "      <td>Lvl</td>\n",
       "      <td>AllPub</td>\n",
       "      <td>...</td>\n",
       "      <td>0</td>\n",
       "      <td>NaN</td>\n",
       "      <td>NaN</td>\n",
       "      <td>NaN</td>\n",
       "      <td>0</td>\n",
       "      <td>9</td>\n",
       "      <td>2008</td>\n",
       "      <td>WD</td>\n",
       "      <td>Normal</td>\n",
       "      <td>223500</td>\n",
       "    </tr>\n",
       "    <tr>\n",
       "      <th>4</th>\n",
       "      <td>4</td>\n",
       "      <td>70</td>\n",
       "      <td>RL</td>\n",
       "      <td>60.0</td>\n",
       "      <td>9550</td>\n",
       "      <td>Pave</td>\n",
       "      <td>NaN</td>\n",
       "      <td>IR1</td>\n",
       "      <td>Lvl</td>\n",
       "      <td>AllPub</td>\n",
       "      <td>...</td>\n",
       "      <td>0</td>\n",
       "      <td>NaN</td>\n",
       "      <td>NaN</td>\n",
       "      <td>NaN</td>\n",
       "      <td>0</td>\n",
       "      <td>2</td>\n",
       "      <td>2006</td>\n",
       "      <td>WD</td>\n",
       "      <td>Abnorml</td>\n",
       "      <td>140000</td>\n",
       "    </tr>\n",
       "    <tr>\n",
       "      <th>5</th>\n",
       "      <td>5</td>\n",
       "      <td>60</td>\n",
       "      <td>RL</td>\n",
       "      <td>84.0</td>\n",
       "      <td>14260</td>\n",
       "      <td>Pave</td>\n",
       "      <td>NaN</td>\n",
       "      <td>IR1</td>\n",
       "      <td>Lvl</td>\n",
       "      <td>AllPub</td>\n",
       "      <td>...</td>\n",
       "      <td>0</td>\n",
       "      <td>NaN</td>\n",
       "      <td>NaN</td>\n",
       "      <td>NaN</td>\n",
       "      <td>0</td>\n",
       "      <td>12</td>\n",
       "      <td>2008</td>\n",
       "      <td>WD</td>\n",
       "      <td>Normal</td>\n",
       "      <td>250000</td>\n",
       "    </tr>\n",
       "    <tr>\n",
       "      <th>...</th>\n",
       "      <td>...</td>\n",
       "      <td>...</td>\n",
       "      <td>...</td>\n",
       "      <td>...</td>\n",
       "      <td>...</td>\n",
       "      <td>...</td>\n",
       "      <td>...</td>\n",
       "      <td>...</td>\n",
       "      <td>...</td>\n",
       "      <td>...</td>\n",
       "      <td>...</td>\n",
       "      <td>...</td>\n",
       "      <td>...</td>\n",
       "      <td>...</td>\n",
       "      <td>...</td>\n",
       "      <td>...</td>\n",
       "      <td>...</td>\n",
       "      <td>...</td>\n",
       "      <td>...</td>\n",
       "      <td>...</td>\n",
       "      <td>...</td>\n",
       "    </tr>\n",
       "    <tr>\n",
       "      <th>1456</th>\n",
       "      <td>1456</td>\n",
       "      <td>60</td>\n",
       "      <td>RL</td>\n",
       "      <td>62.0</td>\n",
       "      <td>7917</td>\n",
       "      <td>Pave</td>\n",
       "      <td>NaN</td>\n",
       "      <td>Reg</td>\n",
       "      <td>Lvl</td>\n",
       "      <td>AllPub</td>\n",
       "      <td>...</td>\n",
       "      <td>0</td>\n",
       "      <td>NaN</td>\n",
       "      <td>NaN</td>\n",
       "      <td>NaN</td>\n",
       "      <td>0</td>\n",
       "      <td>8</td>\n",
       "      <td>2007</td>\n",
       "      <td>WD</td>\n",
       "      <td>Normal</td>\n",
       "      <td>175000</td>\n",
       "    </tr>\n",
       "    <tr>\n",
       "      <th>1457</th>\n",
       "      <td>1457</td>\n",
       "      <td>20</td>\n",
       "      <td>RL</td>\n",
       "      <td>85.0</td>\n",
       "      <td>13175</td>\n",
       "      <td>Pave</td>\n",
       "      <td>NaN</td>\n",
       "      <td>Reg</td>\n",
       "      <td>Lvl</td>\n",
       "      <td>AllPub</td>\n",
       "      <td>...</td>\n",
       "      <td>0</td>\n",
       "      <td>NaN</td>\n",
       "      <td>MnPrv</td>\n",
       "      <td>NaN</td>\n",
       "      <td>0</td>\n",
       "      <td>2</td>\n",
       "      <td>2010</td>\n",
       "      <td>WD</td>\n",
       "      <td>Normal</td>\n",
       "      <td>210000</td>\n",
       "    </tr>\n",
       "    <tr>\n",
       "      <th>1458</th>\n",
       "      <td>1458</td>\n",
       "      <td>70</td>\n",
       "      <td>RL</td>\n",
       "      <td>66.0</td>\n",
       "      <td>9042</td>\n",
       "      <td>Pave</td>\n",
       "      <td>NaN</td>\n",
       "      <td>Reg</td>\n",
       "      <td>Lvl</td>\n",
       "      <td>AllPub</td>\n",
       "      <td>...</td>\n",
       "      <td>0</td>\n",
       "      <td>NaN</td>\n",
       "      <td>GdPrv</td>\n",
       "      <td>Shed</td>\n",
       "      <td>2500</td>\n",
       "      <td>5</td>\n",
       "      <td>2010</td>\n",
       "      <td>WD</td>\n",
       "      <td>Normal</td>\n",
       "      <td>266500</td>\n",
       "    </tr>\n",
       "    <tr>\n",
       "      <th>1459</th>\n",
       "      <td>1459</td>\n",
       "      <td>20</td>\n",
       "      <td>RL</td>\n",
       "      <td>68.0</td>\n",
       "      <td>9717</td>\n",
       "      <td>Pave</td>\n",
       "      <td>NaN</td>\n",
       "      <td>Reg</td>\n",
       "      <td>Lvl</td>\n",
       "      <td>AllPub</td>\n",
       "      <td>...</td>\n",
       "      <td>0</td>\n",
       "      <td>NaN</td>\n",
       "      <td>NaN</td>\n",
       "      <td>NaN</td>\n",
       "      <td>0</td>\n",
       "      <td>4</td>\n",
       "      <td>2010</td>\n",
       "      <td>WD</td>\n",
       "      <td>Normal</td>\n",
       "      <td>142125</td>\n",
       "    </tr>\n",
       "    <tr>\n",
       "      <th>1460</th>\n",
       "      <td>1460</td>\n",
       "      <td>20</td>\n",
       "      <td>RL</td>\n",
       "      <td>75.0</td>\n",
       "      <td>9937</td>\n",
       "      <td>Pave</td>\n",
       "      <td>NaN</td>\n",
       "      <td>Reg</td>\n",
       "      <td>Lvl</td>\n",
       "      <td>AllPub</td>\n",
       "      <td>...</td>\n",
       "      <td>0</td>\n",
       "      <td>NaN</td>\n",
       "      <td>NaN</td>\n",
       "      <td>NaN</td>\n",
       "      <td>0</td>\n",
       "      <td>6</td>\n",
       "      <td>2008</td>\n",
       "      <td>WD</td>\n",
       "      <td>Normal</td>\n",
       "      <td>147500</td>\n",
       "    </tr>\n",
       "  </tbody>\n",
       "</table>\n",
       "<p>1460 rows × 81 columns</p>\n",
       "</div>"
      ],
      "text/plain": [
       "        Id  MSSubClass MSZoning  LotFrontage  LotArea Street Alley LotShape  \\\n",
       "1        1          60       RL         65.0     8450   Pave   NaN      Reg   \n",
       "2        2          20       RL         80.0     9600   Pave   NaN      Reg   \n",
       "3        3          60       RL         68.0    11250   Pave   NaN      IR1   \n",
       "4        4          70       RL         60.0     9550   Pave   NaN      IR1   \n",
       "5        5          60       RL         84.0    14260   Pave   NaN      IR1   \n",
       "...    ...         ...      ...          ...      ...    ...   ...      ...   \n",
       "1456  1456          60       RL         62.0     7917   Pave   NaN      Reg   \n",
       "1457  1457          20       RL         85.0    13175   Pave   NaN      Reg   \n",
       "1458  1458          70       RL         66.0     9042   Pave   NaN      Reg   \n",
       "1459  1459          20       RL         68.0     9717   Pave   NaN      Reg   \n",
       "1460  1460          20       RL         75.0     9937   Pave   NaN      Reg   \n",
       "\n",
       "     LandContour Utilities  ... PoolArea PoolQC  Fence MiscFeature MiscVal  \\\n",
       "1            Lvl    AllPub  ...        0    NaN    NaN         NaN       0   \n",
       "2            Lvl    AllPub  ...        0    NaN    NaN         NaN       0   \n",
       "3            Lvl    AllPub  ...        0    NaN    NaN         NaN       0   \n",
       "4            Lvl    AllPub  ...        0    NaN    NaN         NaN       0   \n",
       "5            Lvl    AllPub  ...        0    NaN    NaN         NaN       0   \n",
       "...          ...       ...  ...      ...    ...    ...         ...     ...   \n",
       "1456         Lvl    AllPub  ...        0    NaN    NaN         NaN       0   \n",
       "1457         Lvl    AllPub  ...        0    NaN  MnPrv         NaN       0   \n",
       "1458         Lvl    AllPub  ...        0    NaN  GdPrv        Shed    2500   \n",
       "1459         Lvl    AllPub  ...        0    NaN    NaN         NaN       0   \n",
       "1460         Lvl    AllPub  ...        0    NaN    NaN         NaN       0   \n",
       "\n",
       "     MoSold YrSold  SaleType  SaleCondition  SalePrice  \n",
       "1         2   2008        WD         Normal     208500  \n",
       "2         5   2007        WD         Normal     181500  \n",
       "3         9   2008        WD         Normal     223500  \n",
       "4         2   2006        WD        Abnorml     140000  \n",
       "5        12   2008        WD         Normal     250000  \n",
       "...     ...    ...       ...            ...        ...  \n",
       "1456      8   2007        WD         Normal     175000  \n",
       "1457      2   2010        WD         Normal     210000  \n",
       "1458      5   2010        WD         Normal     266500  \n",
       "1459      4   2010        WD         Normal     142125  \n",
       "1460      6   2008        WD         Normal     147500  \n",
       "\n",
       "[1460 rows x 81 columns]"
      ]
     },
     "execution_count": 3,
     "metadata": {},
     "output_type": "execute_result"
    }
   ],
   "source": [
    "df"
   ]
  },
  {
   "cell_type": "code",
   "execution_count": 4,
   "id": "dense-excuse",
   "metadata": {},
   "outputs": [],
   "source": [
    "#df.isnull().sum()"
   ]
  },
  {
   "cell_type": "markdown",
   "id": "bizarre-footwear",
   "metadata": {},
   "source": [
    "## exploring nan features , numerical features and catagarical features"
   ]
  },
  {
   "cell_type": "code",
   "execution_count": 5,
   "id": "spread-classroom",
   "metadata": {},
   "outputs": [
    {
     "data": {
      "text/plain": [
       "['LotFrontage',\n",
       " 'Alley',\n",
       " 'MasVnrType',\n",
       " 'MasVnrArea',\n",
       " 'BsmtQual',\n",
       " 'BsmtCond',\n",
       " 'BsmtExposure',\n",
       " 'BsmtFinType1',\n",
       " 'BsmtFinType2',\n",
       " 'Electrical',\n",
       " 'FireplaceQu',\n",
       " 'GarageType',\n",
       " 'GarageYrBlt',\n",
       " 'GarageFinish',\n",
       " 'GarageQual',\n",
       " 'GarageCond',\n",
       " 'PoolQC',\n",
       " 'Fence',\n",
       " 'MiscFeature']"
      ]
     },
     "execution_count": 5,
     "metadata": {},
     "output_type": "execute_result"
    }
   ],
   "source": [
    "nan_features_df=[feature for feature in df.columns if (df[feature].isnull().sum())>0]\n",
    "nan_features_df"
   ]
  },
  {
   "cell_type": "code",
   "execution_count": 6,
   "id": "fluid-block",
   "metadata": {},
   "outputs": [
    {
     "data": {
      "text/plain": [
       "19"
      ]
     },
     "execution_count": 6,
     "metadata": {},
     "output_type": "execute_result"
    }
   ],
   "source": [
    "len(nan_features_df)"
   ]
  },
  {
   "cell_type": "code",
   "execution_count": 7,
   "id": "blank-illustration",
   "metadata": {},
   "outputs": [
    {
     "data": {
      "text/plain": [
       "6965"
      ]
     },
     "execution_count": 7,
     "metadata": {},
     "output_type": "execute_result"
    }
   ],
   "source": [
    "no_of_nan_cells=sum(list(df.isnull().sum()))\n",
    "no_of_nan_cells"
   ]
  },
  {
   "cell_type": "code",
   "execution_count": 8,
   "id": "partial-lease",
   "metadata": {},
   "outputs": [
    {
     "data": {
      "text/plain": [
       "118260"
      ]
     },
     "execution_count": 8,
     "metadata": {},
     "output_type": "execute_result"
    }
   ],
   "source": [
    "total_cells=df.shape[0]*df.shape[1]\n",
    "total_cells"
   ]
  },
  {
   "cell_type": "code",
   "execution_count": 9,
   "id": "minute-integrity",
   "metadata": {},
   "outputs": [
    {
     "data": {
      "text/plain": [
       "111295"
      ]
     },
     "execution_count": 9,
     "metadata": {},
     "output_type": "execute_result"
    }
   ],
   "source": [
    "unempty_cells=total_cells-no_of_nan_cells\n",
    "unempty_cells"
   ]
  },
  {
   "cell_type": "code",
   "execution_count": 10,
   "id": "expressed-failure",
   "metadata": {},
   "outputs": [
    {
     "data": {
      "text/plain": [
       "0.9411043463554879"
      ]
     },
     "execution_count": 10,
     "metadata": {},
     "output_type": "execute_result"
    }
   ],
   "source": [
    "unempty_cells_percentage=unempty_cells/total_cells\n",
    "unempty_cells_percentage"
   ]
  },
  {
   "cell_type": "code",
   "execution_count": 11,
   "id": "variable-dallas",
   "metadata": {},
   "outputs": [
    {
     "data": {
      "text/plain": [
       "23.456790123456788"
      ]
     },
     "execution_count": 11,
     "metadata": {},
     "output_type": "execute_result"
    }
   ],
   "source": [
    "len(nan_features_df)/df.shape[1]*100"
   ]
  },
  {
   "cell_type": "code",
   "execution_count": 12,
   "id": "grand-crown",
   "metadata": {},
   "outputs": [
    {
     "data": {
      "text/plain": [
       "LotFrontage      259\n",
       "Alley           1369\n",
       "MasVnrType         8\n",
       "MasVnrArea         8\n",
       "BsmtQual          37\n",
       "BsmtCond          37\n",
       "BsmtExposure      38\n",
       "BsmtFinType1      37\n",
       "BsmtFinType2      38\n",
       "Electrical         1\n",
       "FireplaceQu      690\n",
       "GarageType        81\n",
       "GarageYrBlt       81\n",
       "GarageFinish      81\n",
       "GarageQual        81\n",
       "GarageCond        81\n",
       "PoolQC          1453\n",
       "Fence           1179\n",
       "MiscFeature     1406\n",
       "dtype: int64"
      ]
     },
     "execution_count": 12,
     "metadata": {},
     "output_type": "execute_result"
    }
   ],
   "source": [
    "df_nan=df[nan_features_df]\n",
    "df_nan.isnull().sum()"
   ]
  },
  {
   "cell_type": "code",
   "execution_count": 13,
   "id": "introductory-hampshire",
   "metadata": {},
   "outputs": [],
   "source": [
    "def make_dataframe_for_nan(dataframe):\n",
    "    nan_features=[]\n",
    "    nan_rows_feature=[]\n",
    "    perc_nan_rows=[]\n",
    "    rounded_perc_nan_rows=[]\n",
    "    for feature in dataframe.columns:\n",
    "        if (dataframe[feature].isnull().sum())>0:\n",
    "            nan_rows=dataframe[feature].isnull().sum()\n",
    "            nan_rows_per=nan_rows/len(dataframe)*100\n",
    "            rounded_nan_rows_per=np.round(nan_rows_per)\n",
    "            nan_features.append(feature)\n",
    "            nan_rows_feature.append(nan_rows)\n",
    "            perc_nan_rows.append(nan_rows_per)\n",
    "            rounded_perc_nan_rows.append(rounded_nan_rows_per)\n",
    "    nan= pd.DataFrame(list(zip(nan_features,nan_rows_feature,perc_nan_rows,rounded_perc_nan_rows)),columns =['feature Name','no of nan rows','percentage of nan rows','rounded percentage of nan rows'])\n",
    "    nan.index = nan.index + 1\n",
    "    return nan    "
   ]
  },
  {
   "cell_type": "code",
   "execution_count": 14,
   "id": "charitable-maximum",
   "metadata": {},
   "outputs": [
    {
     "data": {
      "text/html": [
       "<div>\n",
       "<style scoped>\n",
       "    .dataframe tbody tr th:only-of-type {\n",
       "        vertical-align: middle;\n",
       "    }\n",
       "\n",
       "    .dataframe tbody tr th {\n",
       "        vertical-align: top;\n",
       "    }\n",
       "\n",
       "    .dataframe thead th {\n",
       "        text-align: right;\n",
       "    }\n",
       "</style>\n",
       "<table border=\"1\" class=\"dataframe\">\n",
       "  <thead>\n",
       "    <tr style=\"text-align: right;\">\n",
       "      <th></th>\n",
       "      <th>feature Name</th>\n",
       "      <th>no of nan rows</th>\n",
       "      <th>percentage of nan rows</th>\n",
       "      <th>rounded percentage of nan rows</th>\n",
       "    </tr>\n",
       "  </thead>\n",
       "  <tbody>\n",
       "    <tr>\n",
       "      <th>1</th>\n",
       "      <td>LotFrontage</td>\n",
       "      <td>259</td>\n",
       "      <td>17.739726</td>\n",
       "      <td>18.0</td>\n",
       "    </tr>\n",
       "    <tr>\n",
       "      <th>2</th>\n",
       "      <td>Alley</td>\n",
       "      <td>1369</td>\n",
       "      <td>93.767123</td>\n",
       "      <td>94.0</td>\n",
       "    </tr>\n",
       "    <tr>\n",
       "      <th>3</th>\n",
       "      <td>MasVnrType</td>\n",
       "      <td>8</td>\n",
       "      <td>0.547945</td>\n",
       "      <td>1.0</td>\n",
       "    </tr>\n",
       "    <tr>\n",
       "      <th>4</th>\n",
       "      <td>MasVnrArea</td>\n",
       "      <td>8</td>\n",
       "      <td>0.547945</td>\n",
       "      <td>1.0</td>\n",
       "    </tr>\n",
       "    <tr>\n",
       "      <th>5</th>\n",
       "      <td>BsmtQual</td>\n",
       "      <td>37</td>\n",
       "      <td>2.534247</td>\n",
       "      <td>3.0</td>\n",
       "    </tr>\n",
       "    <tr>\n",
       "      <th>6</th>\n",
       "      <td>BsmtCond</td>\n",
       "      <td>37</td>\n",
       "      <td>2.534247</td>\n",
       "      <td>3.0</td>\n",
       "    </tr>\n",
       "    <tr>\n",
       "      <th>7</th>\n",
       "      <td>BsmtExposure</td>\n",
       "      <td>38</td>\n",
       "      <td>2.602740</td>\n",
       "      <td>3.0</td>\n",
       "    </tr>\n",
       "    <tr>\n",
       "      <th>8</th>\n",
       "      <td>BsmtFinType1</td>\n",
       "      <td>37</td>\n",
       "      <td>2.534247</td>\n",
       "      <td>3.0</td>\n",
       "    </tr>\n",
       "    <tr>\n",
       "      <th>9</th>\n",
       "      <td>BsmtFinType2</td>\n",
       "      <td>38</td>\n",
       "      <td>2.602740</td>\n",
       "      <td>3.0</td>\n",
       "    </tr>\n",
       "    <tr>\n",
       "      <th>10</th>\n",
       "      <td>Electrical</td>\n",
       "      <td>1</td>\n",
       "      <td>0.068493</td>\n",
       "      <td>0.0</td>\n",
       "    </tr>\n",
       "    <tr>\n",
       "      <th>11</th>\n",
       "      <td>FireplaceQu</td>\n",
       "      <td>690</td>\n",
       "      <td>47.260274</td>\n",
       "      <td>47.0</td>\n",
       "    </tr>\n",
       "    <tr>\n",
       "      <th>12</th>\n",
       "      <td>GarageType</td>\n",
       "      <td>81</td>\n",
       "      <td>5.547945</td>\n",
       "      <td>6.0</td>\n",
       "    </tr>\n",
       "    <tr>\n",
       "      <th>13</th>\n",
       "      <td>GarageYrBlt</td>\n",
       "      <td>81</td>\n",
       "      <td>5.547945</td>\n",
       "      <td>6.0</td>\n",
       "    </tr>\n",
       "    <tr>\n",
       "      <th>14</th>\n",
       "      <td>GarageFinish</td>\n",
       "      <td>81</td>\n",
       "      <td>5.547945</td>\n",
       "      <td>6.0</td>\n",
       "    </tr>\n",
       "    <tr>\n",
       "      <th>15</th>\n",
       "      <td>GarageQual</td>\n",
       "      <td>81</td>\n",
       "      <td>5.547945</td>\n",
       "      <td>6.0</td>\n",
       "    </tr>\n",
       "    <tr>\n",
       "      <th>16</th>\n",
       "      <td>GarageCond</td>\n",
       "      <td>81</td>\n",
       "      <td>5.547945</td>\n",
       "      <td>6.0</td>\n",
       "    </tr>\n",
       "    <tr>\n",
       "      <th>17</th>\n",
       "      <td>PoolQC</td>\n",
       "      <td>1453</td>\n",
       "      <td>99.520548</td>\n",
       "      <td>100.0</td>\n",
       "    </tr>\n",
       "    <tr>\n",
       "      <th>18</th>\n",
       "      <td>Fence</td>\n",
       "      <td>1179</td>\n",
       "      <td>80.753425</td>\n",
       "      <td>81.0</td>\n",
       "    </tr>\n",
       "    <tr>\n",
       "      <th>19</th>\n",
       "      <td>MiscFeature</td>\n",
       "      <td>1406</td>\n",
       "      <td>96.301370</td>\n",
       "      <td>96.0</td>\n",
       "    </tr>\n",
       "  </tbody>\n",
       "</table>\n",
       "</div>"
      ],
      "text/plain": [
       "    feature Name  no of nan rows  percentage of nan rows  \\\n",
       "1    LotFrontage             259               17.739726   \n",
       "2          Alley            1369               93.767123   \n",
       "3     MasVnrType               8                0.547945   \n",
       "4     MasVnrArea               8                0.547945   \n",
       "5       BsmtQual              37                2.534247   \n",
       "6       BsmtCond              37                2.534247   \n",
       "7   BsmtExposure              38                2.602740   \n",
       "8   BsmtFinType1              37                2.534247   \n",
       "9   BsmtFinType2              38                2.602740   \n",
       "10    Electrical               1                0.068493   \n",
       "11   FireplaceQu             690               47.260274   \n",
       "12    GarageType              81                5.547945   \n",
       "13   GarageYrBlt              81                5.547945   \n",
       "14  GarageFinish              81                5.547945   \n",
       "15    GarageQual              81                5.547945   \n",
       "16    GarageCond              81                5.547945   \n",
       "17        PoolQC            1453               99.520548   \n",
       "18         Fence            1179               80.753425   \n",
       "19   MiscFeature            1406               96.301370   \n",
       "\n",
       "    rounded percentage of nan rows  \n",
       "1                             18.0  \n",
       "2                             94.0  \n",
       "3                              1.0  \n",
       "4                              1.0  \n",
       "5                              3.0  \n",
       "6                              3.0  \n",
       "7                              3.0  \n",
       "8                              3.0  \n",
       "9                              3.0  \n",
       "10                             0.0  \n",
       "11                            47.0  \n",
       "12                             6.0  \n",
       "13                             6.0  \n",
       "14                             6.0  \n",
       "15                             6.0  \n",
       "16                             6.0  \n",
       "17                           100.0  \n",
       "18                            81.0  \n",
       "19                            96.0  "
      ]
     },
     "execution_count": 14,
     "metadata": {},
     "output_type": "execute_result"
    }
   ],
   "source": [
    "nan_dataframe=make_dataframe_for_nan(df)\n",
    "nan_dataframe"
   ]
  },
  {
   "cell_type": "code",
   "execution_count": 15,
   "id": "rocky-smile",
   "metadata": {},
   "outputs": [],
   "source": [
    "high_nan_features=[]\n",
    "for feature in df.columns:\n",
    "    nan_rows=df[feature].isnull().sum()\n",
    "    nan_rows_per=nan_rows/len(df)*100\n",
    "    if nan_rows_per>=45:\n",
    "        high_nan_features.append(feature)    "
   ]
  },
  {
   "cell_type": "code",
   "execution_count": 17,
   "id": "healthy-passport",
   "metadata": {},
   "outputs": [
    {
     "data": {
      "text/plain": [
       "['Alley', 'FireplaceQu', 'PoolQC', 'Fence', 'MiscFeature']"
      ]
     },
     "execution_count": 17,
     "metadata": {},
     "output_type": "execute_result"
    }
   ],
   "source": [
    "high_nan_features"
   ]
  },
  {
   "cell_type": "code",
   "execution_count": 18,
   "id": "extended-obligation",
   "metadata": {},
   "outputs": [],
   "source": [
    "df=df.drop(high_nan_features,axis='columns')"
   ]
  },
  {
   "cell_type": "code",
   "execution_count": 19,
   "id": "liked-locking",
   "metadata": {},
   "outputs": [
    {
     "data": {
      "text/plain": [
       "['Id',\n",
       " 'MSSubClass',\n",
       " 'LotFrontage',\n",
       " 'LotArea',\n",
       " 'OverallQual',\n",
       " 'OverallCond',\n",
       " 'YearBuilt',\n",
       " 'YearRemodAdd',\n",
       " 'MasVnrArea',\n",
       " 'BsmtFinSF1',\n",
       " 'BsmtFinSF2',\n",
       " 'BsmtUnfSF',\n",
       " 'TotalBsmtSF',\n",
       " '1stFlrSF',\n",
       " '2ndFlrSF',\n",
       " 'LowQualFinSF',\n",
       " 'GrLivArea',\n",
       " 'BsmtFullBath',\n",
       " 'BsmtHalfBath',\n",
       " 'FullBath',\n",
       " 'HalfBath',\n",
       " 'BedroomAbvGr',\n",
       " 'KitchenAbvGr',\n",
       " 'TotRmsAbvGrd',\n",
       " 'Fireplaces',\n",
       " 'GarageYrBlt',\n",
       " 'GarageCars',\n",
       " 'GarageArea',\n",
       " 'WoodDeckSF',\n",
       " 'OpenPorchSF',\n",
       " 'EnclosedPorch',\n",
       " '3SsnPorch',\n",
       " 'ScreenPorch',\n",
       " 'PoolArea',\n",
       " 'MiscVal',\n",
       " 'MoSold',\n",
       " 'YrSold',\n",
       " 'SalePrice']"
      ]
     },
     "execution_count": 19,
     "metadata": {},
     "output_type": "execute_result"
    }
   ],
   "source": [
    "numerical_features = [feature for feature in df.columns if df[feature].dtypes != 'O']\n",
    "numerical_features"
   ]
  },
  {
   "cell_type": "markdown",
   "id": "noted-visit",
   "metadata": {},
   "source": [
    "### exploring catagarical features"
   ]
  },
  {
   "cell_type": "code",
   "execution_count": 20,
   "id": "middle-floating",
   "metadata": {},
   "outputs": [
    {
     "data": {
      "text/plain": [
       "['MSZoning',\n",
       " 'Street',\n",
       " 'LotShape',\n",
       " 'LandContour',\n",
       " 'Utilities',\n",
       " 'LotConfig',\n",
       " 'LandSlope',\n",
       " 'Neighborhood',\n",
       " 'Condition1',\n",
       " 'Condition2',\n",
       " 'BldgType',\n",
       " 'HouseStyle',\n",
       " 'RoofStyle',\n",
       " 'RoofMatl',\n",
       " 'Exterior1st',\n",
       " 'Exterior2nd',\n",
       " 'MasVnrType',\n",
       " 'ExterQual',\n",
       " 'ExterCond',\n",
       " 'Foundation',\n",
       " 'BsmtQual',\n",
       " 'BsmtCond',\n",
       " 'BsmtExposure',\n",
       " 'BsmtFinType1',\n",
       " 'BsmtFinType2',\n",
       " 'Heating',\n",
       " 'HeatingQC',\n",
       " 'CentralAir',\n",
       " 'Electrical',\n",
       " 'KitchenQual',\n",
       " 'Functional',\n",
       " 'GarageType',\n",
       " 'GarageFinish',\n",
       " 'GarageQual',\n",
       " 'GarageCond',\n",
       " 'PavedDrive',\n",
       " 'SaleType',\n",
       " 'SaleCondition']"
      ]
     },
     "execution_count": 20,
     "metadata": {},
     "output_type": "execute_result"
    }
   ],
   "source": [
    "catagarical_features = [feature for feature in df.columns if df[feature].dtypes == 'O']\n",
    "catagarical_features"
   ]
  },
  {
   "cell_type": "code",
   "execution_count": 21,
   "id": "flying-suggestion",
   "metadata": {},
   "outputs": [
    {
     "data": {
      "text/plain": [
       "38"
      ]
     },
     "execution_count": 21,
     "metadata": {},
     "output_type": "execute_result"
    }
   ],
   "source": [
    "len(catagarical_features)"
   ]
  },
  {
   "cell_type": "code",
   "execution_count": 22,
   "id": "sunset-fisher",
   "metadata": {},
   "outputs": [],
   "source": [
    "df_catg=df[catagarical_features]"
   ]
  },
  {
   "cell_type": "code",
   "execution_count": 22,
   "id": "viral-communist",
   "metadata": {},
   "outputs": [],
   "source": [
    "# i=0\n",
    "# for feature in catagarical_features:\n",
    "#     dummies= pd.get_dummies(df_catagarical[feature],drop_first=True)\n",
    "#     i=i+1\n",
    "#     merged = pd.concat([df_catagarical,dummies],axis='columns')\n",
    "#     df_catagarical =merged.drop([feature], axis='columns')"
   ]
  },
  {
   "cell_type": "code",
   "execution_count": 23,
   "id": "gentle-breach",
   "metadata": {},
   "outputs": [],
   "source": [
    "def category_onehot_multcols(multcolumns):\n",
    "    df_final=df_catg\n",
    "    i=0\n",
    "    for fields in multcolumns:\n",
    "        \n",
    "        #print(fields)\n",
    "        df1=pd.get_dummies(df_catg[fields],drop_first=True)\n",
    "        \n",
    "        df_catg.drop([fields],axis=1,inplace=True)\n",
    "        if i==0:\n",
    "            df_final=df1.copy()\n",
    "        else:\n",
    "            \n",
    "            df_final=pd.concat([df_final,df1],axis=1)\n",
    "        i=i+1\n",
    "       \n",
    "        \n",
    "    df_final=pd.concat([df_catg,df_final],axis=1)\n",
    "        \n",
    "    return df_final"
   ]
  },
  {
   "cell_type": "code",
   "execution_count": 24,
   "id": "exotic-english",
   "metadata": {},
   "outputs": [
    {
     "name": "stderr",
     "output_type": "stream",
     "text": [
      "c:\\users\\sk\\appdata\\local\\programs\\python\\python39\\lib\\site-packages\\pandas\\core\\frame.py:4308: SettingWithCopyWarning: \n",
      "A value is trying to be set on a copy of a slice from a DataFrame\n",
      "\n",
      "See the caveats in the documentation: https://pandas.pydata.org/pandas-docs/stable/user_guide/indexing.html#returning-a-view-versus-a-copy\n",
      "  return super().drop(\n"
     ]
    }
   ],
   "source": [
    "df_catagarical=category_onehot_multcols(catagarical_features)"
   ]
  },
  {
   "cell_type": "code",
   "execution_count": 25,
   "id": "cognitive-america",
   "metadata": {},
   "outputs": [
    {
     "data": {
      "text/html": [
       "<div>\n",
       "<style scoped>\n",
       "    .dataframe tbody tr th:only-of-type {\n",
       "        vertical-align: middle;\n",
       "    }\n",
       "\n",
       "    .dataframe tbody tr th {\n",
       "        vertical-align: top;\n",
       "    }\n",
       "\n",
       "    .dataframe thead th {\n",
       "        text-align: right;\n",
       "    }\n",
       "</style>\n",
       "<table border=\"1\" class=\"dataframe\">\n",
       "  <thead>\n",
       "    <tr style=\"text-align: right;\">\n",
       "      <th></th>\n",
       "      <th>FV</th>\n",
       "      <th>RH</th>\n",
       "      <th>RL</th>\n",
       "      <th>RM</th>\n",
       "      <th>Pave</th>\n",
       "      <th>IR2</th>\n",
       "      <th>IR3</th>\n",
       "      <th>Reg</th>\n",
       "      <th>HLS</th>\n",
       "      <th>Low</th>\n",
       "      <th>...</th>\n",
       "      <th>ConLI</th>\n",
       "      <th>ConLw</th>\n",
       "      <th>New</th>\n",
       "      <th>Oth</th>\n",
       "      <th>WD</th>\n",
       "      <th>AdjLand</th>\n",
       "      <th>Alloca</th>\n",
       "      <th>Family</th>\n",
       "      <th>Normal</th>\n",
       "      <th>Partial</th>\n",
       "    </tr>\n",
       "  </thead>\n",
       "  <tbody>\n",
       "    <tr>\n",
       "      <th>1</th>\n",
       "      <td>0</td>\n",
       "      <td>0</td>\n",
       "      <td>1</td>\n",
       "      <td>0</td>\n",
       "      <td>1</td>\n",
       "      <td>0</td>\n",
       "      <td>0</td>\n",
       "      <td>1</td>\n",
       "      <td>0</td>\n",
       "      <td>0</td>\n",
       "      <td>...</td>\n",
       "      <td>0</td>\n",
       "      <td>0</td>\n",
       "      <td>0</td>\n",
       "      <td>0</td>\n",
       "      <td>1</td>\n",
       "      <td>0</td>\n",
       "      <td>0</td>\n",
       "      <td>0</td>\n",
       "      <td>1</td>\n",
       "      <td>0</td>\n",
       "    </tr>\n",
       "    <tr>\n",
       "      <th>2</th>\n",
       "      <td>0</td>\n",
       "      <td>0</td>\n",
       "      <td>1</td>\n",
       "      <td>0</td>\n",
       "      <td>1</td>\n",
       "      <td>0</td>\n",
       "      <td>0</td>\n",
       "      <td>1</td>\n",
       "      <td>0</td>\n",
       "      <td>0</td>\n",
       "      <td>...</td>\n",
       "      <td>0</td>\n",
       "      <td>0</td>\n",
       "      <td>0</td>\n",
       "      <td>0</td>\n",
       "      <td>1</td>\n",
       "      <td>0</td>\n",
       "      <td>0</td>\n",
       "      <td>0</td>\n",
       "      <td>1</td>\n",
       "      <td>0</td>\n",
       "    </tr>\n",
       "    <tr>\n",
       "      <th>3</th>\n",
       "      <td>0</td>\n",
       "      <td>0</td>\n",
       "      <td>1</td>\n",
       "      <td>0</td>\n",
       "      <td>1</td>\n",
       "      <td>0</td>\n",
       "      <td>0</td>\n",
       "      <td>0</td>\n",
       "      <td>0</td>\n",
       "      <td>0</td>\n",
       "      <td>...</td>\n",
       "      <td>0</td>\n",
       "      <td>0</td>\n",
       "      <td>0</td>\n",
       "      <td>0</td>\n",
       "      <td>1</td>\n",
       "      <td>0</td>\n",
       "      <td>0</td>\n",
       "      <td>0</td>\n",
       "      <td>1</td>\n",
       "      <td>0</td>\n",
       "    </tr>\n",
       "    <tr>\n",
       "      <th>4</th>\n",
       "      <td>0</td>\n",
       "      <td>0</td>\n",
       "      <td>1</td>\n",
       "      <td>0</td>\n",
       "      <td>1</td>\n",
       "      <td>0</td>\n",
       "      <td>0</td>\n",
       "      <td>0</td>\n",
       "      <td>0</td>\n",
       "      <td>0</td>\n",
       "      <td>...</td>\n",
       "      <td>0</td>\n",
       "      <td>0</td>\n",
       "      <td>0</td>\n",
       "      <td>0</td>\n",
       "      <td>1</td>\n",
       "      <td>0</td>\n",
       "      <td>0</td>\n",
       "      <td>0</td>\n",
       "      <td>0</td>\n",
       "      <td>0</td>\n",
       "    </tr>\n",
       "    <tr>\n",
       "      <th>5</th>\n",
       "      <td>0</td>\n",
       "      <td>0</td>\n",
       "      <td>1</td>\n",
       "      <td>0</td>\n",
       "      <td>1</td>\n",
       "      <td>0</td>\n",
       "      <td>0</td>\n",
       "      <td>0</td>\n",
       "      <td>0</td>\n",
       "      <td>0</td>\n",
       "      <td>...</td>\n",
       "      <td>0</td>\n",
       "      <td>0</td>\n",
       "      <td>0</td>\n",
       "      <td>0</td>\n",
       "      <td>1</td>\n",
       "      <td>0</td>\n",
       "      <td>0</td>\n",
       "      <td>0</td>\n",
       "      <td>1</td>\n",
       "      <td>0</td>\n",
       "    </tr>\n",
       "    <tr>\n",
       "      <th>...</th>\n",
       "      <td>...</td>\n",
       "      <td>...</td>\n",
       "      <td>...</td>\n",
       "      <td>...</td>\n",
       "      <td>...</td>\n",
       "      <td>...</td>\n",
       "      <td>...</td>\n",
       "      <td>...</td>\n",
       "      <td>...</td>\n",
       "      <td>...</td>\n",
       "      <td>...</td>\n",
       "      <td>...</td>\n",
       "      <td>...</td>\n",
       "      <td>...</td>\n",
       "      <td>...</td>\n",
       "      <td>...</td>\n",
       "      <td>...</td>\n",
       "      <td>...</td>\n",
       "      <td>...</td>\n",
       "      <td>...</td>\n",
       "      <td>...</td>\n",
       "    </tr>\n",
       "    <tr>\n",
       "      <th>1456</th>\n",
       "      <td>0</td>\n",
       "      <td>0</td>\n",
       "      <td>1</td>\n",
       "      <td>0</td>\n",
       "      <td>1</td>\n",
       "      <td>0</td>\n",
       "      <td>0</td>\n",
       "      <td>1</td>\n",
       "      <td>0</td>\n",
       "      <td>0</td>\n",
       "      <td>...</td>\n",
       "      <td>0</td>\n",
       "      <td>0</td>\n",
       "      <td>0</td>\n",
       "      <td>0</td>\n",
       "      <td>1</td>\n",
       "      <td>0</td>\n",
       "      <td>0</td>\n",
       "      <td>0</td>\n",
       "      <td>1</td>\n",
       "      <td>0</td>\n",
       "    </tr>\n",
       "    <tr>\n",
       "      <th>1457</th>\n",
       "      <td>0</td>\n",
       "      <td>0</td>\n",
       "      <td>1</td>\n",
       "      <td>0</td>\n",
       "      <td>1</td>\n",
       "      <td>0</td>\n",
       "      <td>0</td>\n",
       "      <td>1</td>\n",
       "      <td>0</td>\n",
       "      <td>0</td>\n",
       "      <td>...</td>\n",
       "      <td>0</td>\n",
       "      <td>0</td>\n",
       "      <td>0</td>\n",
       "      <td>0</td>\n",
       "      <td>1</td>\n",
       "      <td>0</td>\n",
       "      <td>0</td>\n",
       "      <td>0</td>\n",
       "      <td>1</td>\n",
       "      <td>0</td>\n",
       "    </tr>\n",
       "    <tr>\n",
       "      <th>1458</th>\n",
       "      <td>0</td>\n",
       "      <td>0</td>\n",
       "      <td>1</td>\n",
       "      <td>0</td>\n",
       "      <td>1</td>\n",
       "      <td>0</td>\n",
       "      <td>0</td>\n",
       "      <td>1</td>\n",
       "      <td>0</td>\n",
       "      <td>0</td>\n",
       "      <td>...</td>\n",
       "      <td>0</td>\n",
       "      <td>0</td>\n",
       "      <td>0</td>\n",
       "      <td>0</td>\n",
       "      <td>1</td>\n",
       "      <td>0</td>\n",
       "      <td>0</td>\n",
       "      <td>0</td>\n",
       "      <td>1</td>\n",
       "      <td>0</td>\n",
       "    </tr>\n",
       "    <tr>\n",
       "      <th>1459</th>\n",
       "      <td>0</td>\n",
       "      <td>0</td>\n",
       "      <td>1</td>\n",
       "      <td>0</td>\n",
       "      <td>1</td>\n",
       "      <td>0</td>\n",
       "      <td>0</td>\n",
       "      <td>1</td>\n",
       "      <td>0</td>\n",
       "      <td>0</td>\n",
       "      <td>...</td>\n",
       "      <td>0</td>\n",
       "      <td>0</td>\n",
       "      <td>0</td>\n",
       "      <td>0</td>\n",
       "      <td>1</td>\n",
       "      <td>0</td>\n",
       "      <td>0</td>\n",
       "      <td>0</td>\n",
       "      <td>1</td>\n",
       "      <td>0</td>\n",
       "    </tr>\n",
       "    <tr>\n",
       "      <th>1460</th>\n",
       "      <td>0</td>\n",
       "      <td>0</td>\n",
       "      <td>1</td>\n",
       "      <td>0</td>\n",
       "      <td>1</td>\n",
       "      <td>0</td>\n",
       "      <td>0</td>\n",
       "      <td>1</td>\n",
       "      <td>0</td>\n",
       "      <td>0</td>\n",
       "      <td>...</td>\n",
       "      <td>0</td>\n",
       "      <td>0</td>\n",
       "      <td>0</td>\n",
       "      <td>0</td>\n",
       "      <td>1</td>\n",
       "      <td>0</td>\n",
       "      <td>0</td>\n",
       "      <td>0</td>\n",
       "      <td>1</td>\n",
       "      <td>0</td>\n",
       "    </tr>\n",
       "  </tbody>\n",
       "</table>\n",
       "<p>1460 rows × 196 columns</p>\n",
       "</div>"
      ],
      "text/plain": [
       "      FV  RH  RL  RM  Pave  IR2  IR3  Reg  HLS  Low  ...  ConLI  ConLw  New  \\\n",
       "1      0   0   1   0     1    0    0    1    0    0  ...      0      0    0   \n",
       "2      0   0   1   0     1    0    0    1    0    0  ...      0      0    0   \n",
       "3      0   0   1   0     1    0    0    0    0    0  ...      0      0    0   \n",
       "4      0   0   1   0     1    0    0    0    0    0  ...      0      0    0   \n",
       "5      0   0   1   0     1    0    0    0    0    0  ...      0      0    0   \n",
       "...   ..  ..  ..  ..   ...  ...  ...  ...  ...  ...  ...    ...    ...  ...   \n",
       "1456   0   0   1   0     1    0    0    1    0    0  ...      0      0    0   \n",
       "1457   0   0   1   0     1    0    0    1    0    0  ...      0      0    0   \n",
       "1458   0   0   1   0     1    0    0    1    0    0  ...      0      0    0   \n",
       "1459   0   0   1   0     1    0    0    1    0    0  ...      0      0    0   \n",
       "1460   0   0   1   0     1    0    0    1    0    0  ...      0      0    0   \n",
       "\n",
       "      Oth  WD  AdjLand  Alloca  Family  Normal  Partial  \n",
       "1       0   1        0       0       0       1        0  \n",
       "2       0   1        0       0       0       1        0  \n",
       "3       0   1        0       0       0       1        0  \n",
       "4       0   1        0       0       0       0        0  \n",
       "5       0   1        0       0       0       1        0  \n",
       "...   ...  ..      ...     ...     ...     ...      ...  \n",
       "1456    0   1        0       0       0       1        0  \n",
       "1457    0   1        0       0       0       1        0  \n",
       "1458    0   1        0       0       0       1        0  \n",
       "1459    0   1        0       0       0       1        0  \n",
       "1460    0   1        0       0       0       1        0  \n",
       "\n",
       "[1460 rows x 196 columns]"
      ]
     },
     "execution_count": 25,
     "metadata": {},
     "output_type": "execute_result"
    }
   ],
   "source": [
    "df_catagarical"
   ]
  },
  {
   "cell_type": "code",
   "execution_count": 26,
   "id": "planned-drive",
   "metadata": {},
   "outputs": [
    {
     "data": {
      "text/plain": [
       "56"
      ]
     },
     "execution_count": 26,
     "metadata": {},
     "output_type": "execute_result"
    }
   ],
   "source": [
    "duplicated_columns=df_catagarical.columns[df_catagarical.columns.duplicated()]\n",
    "len(duplicated_columns)"
   ]
  },
  {
   "cell_type": "code",
   "execution_count": 27,
   "id": "retained-extent",
   "metadata": {},
   "outputs": [
    {
     "data": {
      "text/html": [
       "<div>\n",
       "<style scoped>\n",
       "    .dataframe tbody tr th:only-of-type {\n",
       "        vertical-align: middle;\n",
       "    }\n",
       "\n",
       "    .dataframe tbody tr th {\n",
       "        vertical-align: top;\n",
       "    }\n",
       "\n",
       "    .dataframe thead th {\n",
       "        text-align: right;\n",
       "    }\n",
       "</style>\n",
       "<table border=\"1\" class=\"dataframe\">\n",
       "  <thead>\n",
       "    <tr style=\"text-align: right;\">\n",
       "      <th></th>\n",
       "      <th>Feedr</th>\n",
       "      <th>Feedr</th>\n",
       "    </tr>\n",
       "  </thead>\n",
       "  <tbody>\n",
       "    <tr>\n",
       "      <th>1</th>\n",
       "      <td>0</td>\n",
       "      <td>0</td>\n",
       "    </tr>\n",
       "    <tr>\n",
       "      <th>2</th>\n",
       "      <td>1</td>\n",
       "      <td>0</td>\n",
       "    </tr>\n",
       "    <tr>\n",
       "      <th>3</th>\n",
       "      <td>0</td>\n",
       "      <td>0</td>\n",
       "    </tr>\n",
       "    <tr>\n",
       "      <th>4</th>\n",
       "      <td>0</td>\n",
       "      <td>0</td>\n",
       "    </tr>\n",
       "    <tr>\n",
       "      <th>5</th>\n",
       "      <td>0</td>\n",
       "      <td>0</td>\n",
       "    </tr>\n",
       "    <tr>\n",
       "      <th>...</th>\n",
       "      <td>...</td>\n",
       "      <td>...</td>\n",
       "    </tr>\n",
       "    <tr>\n",
       "      <th>1456</th>\n",
       "      <td>0</td>\n",
       "      <td>0</td>\n",
       "    </tr>\n",
       "    <tr>\n",
       "      <th>1457</th>\n",
       "      <td>0</td>\n",
       "      <td>0</td>\n",
       "    </tr>\n",
       "    <tr>\n",
       "      <th>1458</th>\n",
       "      <td>0</td>\n",
       "      <td>0</td>\n",
       "    </tr>\n",
       "    <tr>\n",
       "      <th>1459</th>\n",
       "      <td>0</td>\n",
       "      <td>0</td>\n",
       "    </tr>\n",
       "    <tr>\n",
       "      <th>1460</th>\n",
       "      <td>0</td>\n",
       "      <td>0</td>\n",
       "    </tr>\n",
       "  </tbody>\n",
       "</table>\n",
       "<p>1460 rows × 2 columns</p>\n",
       "</div>"
      ],
      "text/plain": [
       "      Feedr  Feedr\n",
       "1         0      0\n",
       "2         1      0\n",
       "3         0      0\n",
       "4         0      0\n",
       "5         0      0\n",
       "...     ...    ...\n",
       "1456      0      0\n",
       "1457      0      0\n",
       "1458      0      0\n",
       "1459      0      0\n",
       "1460      0      0\n",
       "\n",
       "[1460 rows x 2 columns]"
      ]
     },
     "execution_count": 27,
     "metadata": {},
     "output_type": "execute_result"
    }
   ],
   "source": [
    "df_catagarical['Feedr']"
   ]
  },
  {
   "cell_type": "code",
   "execution_count": 28,
   "id": "grateful-surface",
   "metadata": {},
   "outputs": [
    {
     "data": {
      "text/html": [
       "<div>\n",
       "<style scoped>\n",
       "    .dataframe tbody tr th:only-of-type {\n",
       "        vertical-align: middle;\n",
       "    }\n",
       "\n",
       "    .dataframe tbody tr th {\n",
       "        vertical-align: top;\n",
       "    }\n",
       "\n",
       "    .dataframe thead th {\n",
       "        text-align: right;\n",
       "    }\n",
       "</style>\n",
       "<table border=\"1\" class=\"dataframe\">\n",
       "  <thead>\n",
       "    <tr style=\"text-align: right;\">\n",
       "      <th></th>\n",
       "      <th>TA</th>\n",
       "      <th>TA</th>\n",
       "      <th>TA</th>\n",
       "      <th>TA</th>\n",
       "      <th>TA</th>\n",
       "      <th>TA</th>\n",
       "      <th>TA</th>\n",
       "      <th>TA</th>\n",
       "    </tr>\n",
       "  </thead>\n",
       "  <tbody>\n",
       "    <tr>\n",
       "      <th>1</th>\n",
       "      <td>0</td>\n",
       "      <td>1</td>\n",
       "      <td>0</td>\n",
       "      <td>1</td>\n",
       "      <td>0</td>\n",
       "      <td>0</td>\n",
       "      <td>1</td>\n",
       "      <td>1</td>\n",
       "    </tr>\n",
       "    <tr>\n",
       "      <th>2</th>\n",
       "      <td>1</td>\n",
       "      <td>1</td>\n",
       "      <td>0</td>\n",
       "      <td>1</td>\n",
       "      <td>0</td>\n",
       "      <td>1</td>\n",
       "      <td>1</td>\n",
       "      <td>1</td>\n",
       "    </tr>\n",
       "    <tr>\n",
       "      <th>3</th>\n",
       "      <td>0</td>\n",
       "      <td>1</td>\n",
       "      <td>0</td>\n",
       "      <td>1</td>\n",
       "      <td>0</td>\n",
       "      <td>0</td>\n",
       "      <td>1</td>\n",
       "      <td>1</td>\n",
       "    </tr>\n",
       "    <tr>\n",
       "      <th>4</th>\n",
       "      <td>1</td>\n",
       "      <td>1</td>\n",
       "      <td>1</td>\n",
       "      <td>0</td>\n",
       "      <td>0</td>\n",
       "      <td>0</td>\n",
       "      <td>1</td>\n",
       "      <td>1</td>\n",
       "    </tr>\n",
       "    <tr>\n",
       "      <th>5</th>\n",
       "      <td>0</td>\n",
       "      <td>1</td>\n",
       "      <td>0</td>\n",
       "      <td>1</td>\n",
       "      <td>0</td>\n",
       "      <td>0</td>\n",
       "      <td>1</td>\n",
       "      <td>1</td>\n",
       "    </tr>\n",
       "    <tr>\n",
       "      <th>...</th>\n",
       "      <td>...</td>\n",
       "      <td>...</td>\n",
       "      <td>...</td>\n",
       "      <td>...</td>\n",
       "      <td>...</td>\n",
       "      <td>...</td>\n",
       "      <td>...</td>\n",
       "      <td>...</td>\n",
       "    </tr>\n",
       "    <tr>\n",
       "      <th>1456</th>\n",
       "      <td>1</td>\n",
       "      <td>1</td>\n",
       "      <td>0</td>\n",
       "      <td>1</td>\n",
       "      <td>0</td>\n",
       "      <td>1</td>\n",
       "      <td>1</td>\n",
       "      <td>1</td>\n",
       "    </tr>\n",
       "    <tr>\n",
       "      <th>1457</th>\n",
       "      <td>1</td>\n",
       "      <td>1</td>\n",
       "      <td>0</td>\n",
       "      <td>1</td>\n",
       "      <td>1</td>\n",
       "      <td>1</td>\n",
       "      <td>1</td>\n",
       "      <td>1</td>\n",
       "    </tr>\n",
       "    <tr>\n",
       "      <th>1458</th>\n",
       "      <td>0</td>\n",
       "      <td>0</td>\n",
       "      <td>1</td>\n",
       "      <td>0</td>\n",
       "      <td>0</td>\n",
       "      <td>0</td>\n",
       "      <td>1</td>\n",
       "      <td>1</td>\n",
       "    </tr>\n",
       "    <tr>\n",
       "      <th>1459</th>\n",
       "      <td>1</td>\n",
       "      <td>1</td>\n",
       "      <td>1</td>\n",
       "      <td>1</td>\n",
       "      <td>0</td>\n",
       "      <td>0</td>\n",
       "      <td>1</td>\n",
       "      <td>1</td>\n",
       "    </tr>\n",
       "    <tr>\n",
       "      <th>1460</th>\n",
       "      <td>0</td>\n",
       "      <td>1</td>\n",
       "      <td>1</td>\n",
       "      <td>1</td>\n",
       "      <td>0</td>\n",
       "      <td>1</td>\n",
       "      <td>1</td>\n",
       "      <td>1</td>\n",
       "    </tr>\n",
       "  </tbody>\n",
       "</table>\n",
       "<p>1460 rows × 8 columns</p>\n",
       "</div>"
      ],
      "text/plain": [
       "      TA  TA  TA  TA  TA  TA  TA  TA\n",
       "1      0   1   0   1   0   0   1   1\n",
       "2      1   1   0   1   0   1   1   1\n",
       "3      0   1   0   1   0   0   1   1\n",
       "4      1   1   1   0   0   0   1   1\n",
       "5      0   1   0   1   0   0   1   1\n",
       "...   ..  ..  ..  ..  ..  ..  ..  ..\n",
       "1456   1   1   0   1   0   1   1   1\n",
       "1457   1   1   0   1   1   1   1   1\n",
       "1458   0   0   1   0   0   0   1   1\n",
       "1459   1   1   1   1   0   0   1   1\n",
       "1460   0   1   1   1   0   1   1   1\n",
       "\n",
       "[1460 rows x 8 columns]"
      ]
     },
     "execution_count": 28,
     "metadata": {},
     "output_type": "execute_result"
    }
   ],
   "source": [
    "df_catagarical['TA']"
   ]
  },
  {
   "cell_type": "code",
   "execution_count": 29,
   "id": "burning-center",
   "metadata": {},
   "outputs": [],
   "source": [
    "df_catagarical=df_catagarical.drop(duplicated_columns,axis='columns')"
   ]
  },
  {
   "cell_type": "code",
   "execution_count": 30,
   "id": "competitive-activation",
   "metadata": {},
   "outputs": [
    {
     "data": {
      "text/plain": [
       "(1460, 110)"
      ]
     },
     "execution_count": 30,
     "metadata": {},
     "output_type": "execute_result"
    }
   ],
   "source": [
    "df_catagarical.shape"
   ]
  },
  {
   "cell_type": "markdown",
   "id": "moral-aspect",
   "metadata": {},
   "source": [
    "### cheking_relationships"
   ]
  },
  {
   "cell_type": "code",
   "execution_count": 31,
   "id": "correct-arrow",
   "metadata": {},
   "outputs": [],
   "source": [
    "df_catagarical=pd.concat([df_catagarical,df['SalePrice']],axis='columns')"
   ]
  },
  {
   "cell_type": "code",
   "execution_count": 32,
   "id": "lovely-algorithm",
   "metadata": {},
   "outputs": [],
   "source": [
    "c_matrix_catg=df_catagarical.corr()"
   ]
  },
  {
   "cell_type": "code",
   "execution_count": 33,
   "id": "joined-representative",
   "metadata": {},
   "outputs": [
    {
     "data": {
      "text/plain": [
       "SalePrice    1.000000\n",
       "PConc        0.497734\n",
       "NridgHt      0.402149\n",
       "New          0.357509\n",
       "Partial      0.352060\n",
       "               ...   \n",
       "No          -0.263600\n",
       "Reg         -0.267672\n",
       "RM          -0.288065\n",
       "Detchd      -0.354141\n",
       "None        -0.374468\n",
       "Name: SalePrice, Length: 111, dtype: float64"
      ]
     },
     "execution_count": 33,
     "metadata": {},
     "output_type": "execute_result"
    }
   ],
   "source": [
    "c_matrix_catg['SalePrice'].sort_values(ascending=False)"
   ]
  },
  {
   "cell_type": "code",
   "execution_count": 34,
   "id": "lesbian-punch",
   "metadata": {},
   "outputs": [],
   "source": [
    "plus_fifty_features_catg=[]\n",
    "for feature in c_matrix_catg['SalePrice'].sort_values(ascending=False).keys():\n",
    "    if (c_matrix_catg['SalePrice'][feature]>=0.45) | (c_matrix_catg['SalePrice'][feature]<=-0.45):\n",
    "        plus_fifty_features_catg.append(feature)  "
   ]
  },
  {
   "cell_type": "code",
   "execution_count": 35,
   "id": "sunrise-moderator",
   "metadata": {},
   "outputs": [],
   "source": [
    "plus_fifty_features_catg.remove('SalePrice')"
   ]
  },
  {
   "cell_type": "code",
   "execution_count": 36,
   "id": "recent-greenhouse",
   "metadata": {},
   "outputs": [
    {
     "data": {
      "text/plain": [
       "['PConc']"
      ]
     },
     "execution_count": 36,
     "metadata": {},
     "output_type": "execute_result"
    }
   ],
   "source": [
    "plus_fifty_features_catg"
   ]
  },
  {
   "cell_type": "markdown",
   "id": "synthetic-sunday",
   "metadata": {},
   "source": [
    "***************************"
   ]
  },
  {
   "cell_type": "markdown",
   "id": "specialized-freeze",
   "metadata": {},
   "source": [
    "***********************************************"
   ]
  },
  {
   "cell_type": "code",
   "execution_count": 37,
   "id": "expanded-albania",
   "metadata": {},
   "outputs": [],
   "source": [
    "numerical_features_2 = [feature for feature in df.columns if df[feature].dtypes != 'O']"
   ]
  },
  {
   "cell_type": "code",
   "execution_count": 38,
   "id": "durable-picnic",
   "metadata": {},
   "outputs": [
    {
     "data": {
      "text/plain": [
       "50.0"
      ]
     },
     "execution_count": 38,
     "metadata": {},
     "output_type": "execute_result"
    }
   ],
   "source": [
    "len(numerical_features_2)/df.shape[1]*100"
   ]
  },
  {
   "cell_type": "code",
   "execution_count": 39,
   "id": "spare-settle",
   "metadata": {},
   "outputs": [],
   "source": [
    "df_n=df[numerical_features_2]"
   ]
  },
  {
   "cell_type": "code",
   "execution_count": 40,
   "id": "thirty-practitioner",
   "metadata": {},
   "outputs": [
    {
     "data": {
      "text/plain": [
       "(1460, 38)"
      ]
     },
     "execution_count": 40,
     "metadata": {},
     "output_type": "execute_result"
    }
   ],
   "source": [
    "df_n.shape"
   ]
  },
  {
   "cell_type": "code",
   "execution_count": 41,
   "id": "concerned-convergence",
   "metadata": {},
   "outputs": [],
   "source": [
    "year_features= [feature for feature in numerical_features_2 if 'Yr' in feature or 'Year' in feature]"
   ]
  },
  {
   "cell_type": "code",
   "execution_count": 42,
   "id": "suspected-missouri",
   "metadata": {},
   "outputs": [
    {
     "data": {
      "text/plain": [
       "['YearBuilt', 'YearRemodAdd', 'GarageYrBlt', 'YrSold']"
      ]
     },
     "execution_count": 42,
     "metadata": {},
     "output_type": "execute_result"
    }
   ],
   "source": [
    "year_features"
   ]
  },
  {
   "cell_type": "code",
   "execution_count": 43,
   "id": "literary-canal",
   "metadata": {},
   "outputs": [],
   "source": [
    "non_year_features=[feature for feature in numerical_features_2 if feature not in year_features]"
   ]
  },
  {
   "cell_type": "code",
   "execution_count": 44,
   "id": "optical-guitar",
   "metadata": {},
   "outputs": [
    {
     "data": {
      "text/plain": [
       "34"
      ]
     },
     "execution_count": 44,
     "metadata": {},
     "output_type": "execute_result"
    }
   ],
   "source": [
    "len(non_year_features)"
   ]
  },
  {
   "cell_type": "markdown",
   "id": "becoming-making",
   "metadata": {},
   "source": [
    "### handling with missing values two options"
   ]
  },
  {
   "cell_type": "markdown",
   "id": "interracial-street",
   "metadata": {},
   "source": [
    "***option:1 filling missing values with zero and recheking***"
   ]
  },
  {
   "cell_type": "code",
   "execution_count": 45,
   "id": "equal-tours",
   "metadata": {},
   "outputs": [],
   "source": [
    "#df_n=df_n.fillna(0)"
   ]
  },
  {
   "cell_type": "code",
   "execution_count": 46,
   "id": "shaped-maximum",
   "metadata": {},
   "outputs": [],
   "source": [
    "#(df_n.isnull().sum()==0).value_counts()"
   ]
  },
  {
   "cell_type": "markdown",
   "id": "latter-robertson",
   "metadata": {},
   "source": [
    "***option:2 droping missing values***"
   ]
  },
  {
   "cell_type": "code",
   "execution_count": 47,
   "id": "forward-disco",
   "metadata": {},
   "outputs": [],
   "source": [
    "#df=df.drop(high_nan_features,axis='columns')"
   ]
  },
  {
   "cell_type": "code",
   "execution_count": 48,
   "id": "latter-associate",
   "metadata": {},
   "outputs": [],
   "source": [
    "#df_n=df_n.dropna()"
   ]
  },
  {
   "cell_type": "code",
   "execution_count": 49,
   "id": "invisible-optimization",
   "metadata": {},
   "outputs": [
    {
     "data": {
      "text/plain": [
       "True     35\n",
       "False     3\n",
       "dtype: int64"
      ]
     },
     "execution_count": 49,
     "metadata": {},
     "output_type": "execute_result"
    }
   ],
   "source": [
    "(df_n.isnull().sum()==0).value_counts()"
   ]
  },
  {
   "cell_type": "markdown",
   "id": "motivated-financing",
   "metadata": {},
   "source": [
    "***option:3 droping missing columns having more than 45% nan rows***"
   ]
  },
  {
   "cell_type": "code",
   "execution_count": 50,
   "id": "realistic-undergraduate",
   "metadata": {},
   "outputs": [],
   "source": [
    "#df_n=df_n.drop()"
   ]
  },
  {
   "cell_type": "code",
   "execution_count": 51,
   "id": "leading-theater",
   "metadata": {},
   "outputs": [],
   "source": [
    "dropped_rows=len(df)-len(df_n)"
   ]
  },
  {
   "cell_type": "code",
   "execution_count": 52,
   "id": "polar-launch",
   "metadata": {},
   "outputs": [
    {
     "data": {
      "text/plain": [
       "0"
      ]
     },
     "execution_count": 52,
     "metadata": {},
     "output_type": "execute_result"
    }
   ],
   "source": [
    "dropped_rows"
   ]
  },
  {
   "cell_type": "code",
   "execution_count": 53,
   "id": "casual-rates",
   "metadata": {},
   "outputs": [
    {
     "data": {
      "text/plain": [
       "1460"
      ]
     },
     "execution_count": 53,
     "metadata": {},
     "output_type": "execute_result"
    }
   ],
   "source": [
    "rows_in_use=len(df)-dropped_rows\n",
    "rows_in_use"
   ]
  },
  {
   "cell_type": "code",
   "execution_count": 54,
   "id": "european-correction",
   "metadata": {},
   "outputs": [
    {
     "data": {
      "text/plain": [
       "100.0"
      ]
     },
     "execution_count": 54,
     "metadata": {},
     "output_type": "execute_result"
    }
   ],
   "source": [
    "rows_in_use_percentage=rows_in_use/len(df)*100\n",
    "rows_in_use_percentage"
   ]
  },
  {
   "cell_type": "code",
   "execution_count": 55,
   "id": "spiritual-chart",
   "metadata": {},
   "outputs": [
    {
     "data": {
      "text/plain": [
       "0"
      ]
     },
     "execution_count": 55,
     "metadata": {},
     "output_type": "execute_result"
    }
   ],
   "source": [
    "dropped_cells=dropped_rows*df.shape[1]\n",
    "dropped_cells"
   ]
  },
  {
   "cell_type": "code",
   "execution_count": 56,
   "id": "satellite-southwest",
   "metadata": {},
   "outputs": [
    {
     "data": {
      "text/plain": [
       "118260"
      ]
     },
     "execution_count": 56,
     "metadata": {},
     "output_type": "execute_result"
    }
   ],
   "source": [
    "cells_in_use=total_cells-dropped_cells\n",
    "cells_in_use"
   ]
  },
  {
   "cell_type": "code",
   "execution_count": 57,
   "id": "searching-tenant",
   "metadata": {},
   "outputs": [
    {
     "data": {
      "text/plain": [
       "100.0"
      ]
     },
     "execution_count": 57,
     "metadata": {},
     "output_type": "execute_result"
    }
   ],
   "source": [
    "cells_in_use_percentage=cells_in_use/total_cells*100\n",
    "cells_in_use_percentage"
   ]
  },
  {
   "cell_type": "markdown",
   "id": "automated-harvest",
   "metadata": {},
   "source": [
    "### exclode  ID "
   ]
  },
  {
   "cell_type": "code",
   "execution_count": 58,
   "id": "entire-pencil",
   "metadata": {},
   "outputs": [],
   "source": [
    "df_n=df_n.drop(['Id'],axis='columns')"
   ]
  },
  {
   "cell_type": "markdown",
   "id": "portable-desktop",
   "metadata": {},
   "source": [
    "### cheking for relationship in features"
   ]
  },
  {
   "cell_type": "code",
   "execution_count": 59,
   "id": "manual-howard",
   "metadata": {},
   "outputs": [],
   "source": [
    "c_matrix=df_n.corr()"
   ]
  },
  {
   "cell_type": "code",
   "execution_count": 60,
   "id": "guided-madagascar",
   "metadata": {},
   "outputs": [],
   "source": [
    "# import seaborn as sns\n",
    "# import matplotlib.pyplot as plt\n",
    "# #get correlations of each features in dataset\n",
    "# top_corr_features = c_matrix.index\n",
    "# plt.figure(figsize=(20,20))\n",
    "# #plot heat map\n",
    "# g=sns.heatmap(df_n[top_corr_features].corr(),annot=True,cmap=\"RdYlGn\")"
   ]
  },
  {
   "cell_type": "code",
   "execution_count": 61,
   "id": "thousand-honduras",
   "metadata": {},
   "outputs": [],
   "source": [
    "import seaborn as sns\n",
    "#sns.relplot(x=\"CentralAir\",y=\"SalePrice\",data=df_n,kind='line')"
   ]
  },
  {
   "cell_type": "code",
   "execution_count": 62,
   "id": "productive-labor",
   "metadata": {},
   "outputs": [],
   "source": [
    "#sns.relplot(x=\"Street\",y=\"SalePrice\",data=df_n,kind='line')"
   ]
  },
  {
   "cell_type": "code",
   "execution_count": 63,
   "id": "cultural-tulsa",
   "metadata": {},
   "outputs": [],
   "source": [
    "#sns.relplot(x=\"Utilities\",y=\"SalePrice\",data=df_n,kind='line')"
   ]
  },
  {
   "cell_type": "code",
   "execution_count": 64,
   "id": "designing-channels",
   "metadata": {},
   "outputs": [
    {
     "data": {
      "text/plain": [
       "37"
      ]
     },
     "execution_count": 64,
     "metadata": {},
     "output_type": "execute_result"
    }
   ],
   "source": [
    "len(c_matrix)"
   ]
  },
  {
   "cell_type": "code",
   "execution_count": 65,
   "id": "determined-watch",
   "metadata": {},
   "outputs": [
    {
     "data": {
      "text/plain": [
       "SalePrice        1.000000\n",
       "OverallQual      0.790982\n",
       "GrLivArea        0.708624\n",
       "GarageCars       0.640409\n",
       "GarageArea       0.623431\n",
       "TotalBsmtSF      0.613581\n",
       "1stFlrSF         0.605852\n",
       "FullBath         0.560664\n",
       "TotRmsAbvGrd     0.533723\n",
       "YearBuilt        0.522897\n",
       "YearRemodAdd     0.507101\n",
       "GarageYrBlt      0.486362\n",
       "MasVnrArea       0.477493\n",
       "Fireplaces       0.466929\n",
       "BsmtFinSF1       0.386420\n",
       "LotFrontage      0.351799\n",
       "WoodDeckSF       0.324413\n",
       "2ndFlrSF         0.319334\n",
       "OpenPorchSF      0.315856\n",
       "HalfBath         0.284108\n",
       "LotArea          0.263843\n",
       "BsmtFullBath     0.227122\n",
       "BsmtUnfSF        0.214479\n",
       "BedroomAbvGr     0.168213\n",
       "ScreenPorch      0.111447\n",
       "PoolArea         0.092404\n",
       "MoSold           0.046432\n",
       "3SsnPorch        0.044584\n",
       "BsmtFinSF2      -0.011378\n",
       "BsmtHalfBath    -0.016844\n",
       "MiscVal         -0.021190\n",
       "LowQualFinSF    -0.025606\n",
       "YrSold          -0.028923\n",
       "OverallCond     -0.077856\n",
       "MSSubClass      -0.084284\n",
       "EnclosedPorch   -0.128578\n",
       "KitchenAbvGr    -0.135907\n",
       "Name: SalePrice, dtype: float64"
      ]
     },
     "execution_count": 65,
     "metadata": {},
     "output_type": "execute_result"
    }
   ],
   "source": [
    "c_matrix['SalePrice'].sort_values(ascending=False)"
   ]
  },
  {
   "cell_type": "code",
   "execution_count": 66,
   "id": "widespread-professor",
   "metadata": {},
   "outputs": [],
   "source": [
    "#c_matrix['SalePrice'][catg_2_features]"
   ]
  },
  {
   "cell_type": "code",
   "execution_count": 67,
   "id": "parental-graphic",
   "metadata": {},
   "outputs": [
    {
     "data": {
      "text/plain": [
       "YearBuilt       0.522897\n",
       "YearRemodAdd    0.507101\n",
       "GarageYrBlt     0.486362\n",
       "YrSold         -0.028923\n",
       "Name: SalePrice, dtype: float64"
      ]
     },
     "execution_count": 67,
     "metadata": {},
     "output_type": "execute_result"
    }
   ],
   "source": [
    "c_matrix['SalePrice'][year_features]"
   ]
  },
  {
   "cell_type": "markdown",
   "id": "plain-skirt",
   "metadata": {},
   "source": [
    "### excloding year features"
   ]
  },
  {
   "cell_type": "code",
   "execution_count": 68,
   "id": "entitled-client",
   "metadata": {},
   "outputs": [],
   "source": [
    "#df_n=df[non_year_features]"
   ]
  },
  {
   "cell_type": "code",
   "execution_count": 69,
   "id": "going-omega",
   "metadata": {},
   "outputs": [],
   "source": [
    "#df_n"
   ]
  },
  {
   "cell_type": "code",
   "execution_count": 70,
   "id": "wrong-acquisition",
   "metadata": {},
   "outputs": [],
   "source": [
    "# import seaborn as sns\n",
    "# import matplotlib.pyplot as plt\n",
    "# #get correlations of each features in dataset\n",
    "# top_corr_features = c_matrix.index\n",
    "# plt.figure(figsize=(20,20))\n",
    "# #plot heat map\n",
    "# g=sns.heatmap(df_n[top_corr_features].corr()['SalePrice'],annot=True,cmap=\"RdYlGn\")"
   ]
  },
  {
   "cell_type": "code",
   "execution_count": 71,
   "id": "collected-three",
   "metadata": {},
   "outputs": [],
   "source": [
    "# import seaborn as sns\n",
    "# sns.pairplot(df_n)"
   ]
  },
  {
   "cell_type": "code",
   "execution_count": 72,
   "id": "speaking-demographic",
   "metadata": {},
   "outputs": [],
   "source": [
    "#c_matrix['SalePrice'].sort_values(ascending=False).keys()"
   ]
  },
  {
   "cell_type": "code",
   "execution_count": 73,
   "id": "blind-newman",
   "metadata": {},
   "outputs": [],
   "source": [
    "#c_matrix['SalePrice']['FullBath']"
   ]
  },
  {
   "cell_type": "code",
   "execution_count": 74,
   "id": "documented-activity",
   "metadata": {},
   "outputs": [],
   "source": [
    "plus_fifty_features=[]\n",
    "for feature in c_matrix['SalePrice'].sort_values(ascending=False).keys():\n",
    "    if c_matrix['SalePrice'][feature]>=0.5:\n",
    "        plus_fifty_features.append(feature)  "
   ]
  },
  {
   "cell_type": "code",
   "execution_count": 75,
   "id": "worthy-furniture",
   "metadata": {},
   "outputs": [],
   "source": [
    "plus_fifty_features.remove('SalePrice')"
   ]
  },
  {
   "cell_type": "code",
   "execution_count": 76,
   "id": "advanced-candle",
   "metadata": {},
   "outputs": [
    {
     "data": {
      "text/plain": [
       "['OverallQual',\n",
       " 'GrLivArea',\n",
       " 'GarageCars',\n",
       " 'GarageArea',\n",
       " 'TotalBsmtSF',\n",
       " '1stFlrSF',\n",
       " 'FullBath',\n",
       " 'TotRmsAbvGrd',\n",
       " 'YearBuilt',\n",
       " 'YearRemodAdd']"
      ]
     },
     "execution_count": 76,
     "metadata": {},
     "output_type": "execute_result"
    }
   ],
   "source": [
    "plus_fifty_features"
   ]
  },
  {
   "cell_type": "code",
   "execution_count": 77,
   "id": "comparable-array",
   "metadata": {},
   "outputs": [
    {
     "data": {
      "text/plain": [
       "10"
      ]
     },
     "execution_count": 77,
     "metadata": {},
     "output_type": "execute_result"
    }
   ],
   "source": [
    "len(plus_fifty_features)"
   ]
  },
  {
   "cell_type": "code",
   "execution_count": 78,
   "id": "comfortable-bones",
   "metadata": {},
   "outputs": [
    {
     "data": {
      "text/plain": [
       "SalePrice       1.000000\n",
       "OverallQual     0.790982\n",
       "GrLivArea       0.708624\n",
       "GarageCars      0.640409\n",
       "GarageArea      0.623431\n",
       "TotalBsmtSF     0.613581\n",
       "1stFlrSF        0.605852\n",
       "FullBath        0.560664\n",
       "TotRmsAbvGrd    0.533723\n",
       "YearBuilt       0.522897\n",
       "YearRemodAdd    0.507101\n",
       "Name: SalePrice, dtype: float64"
      ]
     },
     "execution_count": 78,
     "metadata": {},
     "output_type": "execute_result"
    }
   ],
   "source": [
    "c_matrix['SalePrice'].sort_values(ascending=False)[:11]"
   ]
  },
  {
   "cell_type": "code",
   "execution_count": 79,
   "id": "simplified-black",
   "metadata": {},
   "outputs": [],
   "source": [
    "#sns.relplot(x=\"OverallQual\",y=\"SalePrice\",data=df_n,kind='line')"
   ]
  },
  {
   "cell_type": "code",
   "execution_count": 80,
   "id": "welsh-spanking",
   "metadata": {},
   "outputs": [],
   "source": [
    "#sns.relplot(x=\"PoolArea\",y=\"SalePrice\",data=df_n,kind='line')"
   ]
  },
  {
   "cell_type": "code",
   "execution_count": 81,
   "id": "commercial-japanese",
   "metadata": {},
   "outputs": [],
   "source": [
    "#sns.relplot(x=\"KitchenAbvGr\",y=\"SalePrice\",data=df_n,kind='line')"
   ]
  },
  {
   "cell_type": "markdown",
   "id": "regulation-settle",
   "metadata": {},
   "source": [
    "### preparing dataframe for training"
   ]
  },
  {
   "cell_type": "code",
   "execution_count": 83,
   "id": "infectious-hello",
   "metadata": {},
   "outputs": [],
   "source": [
    "df_10=df_n[plus_fifty_features]"
   ]
  },
  {
   "cell_type": "code",
   "execution_count": 84,
   "id": "negative-agent",
   "metadata": {},
   "outputs": [
    {
     "data": {
      "text/html": [
       "<div>\n",
       "<style scoped>\n",
       "    .dataframe tbody tr th:only-of-type {\n",
       "        vertical-align: middle;\n",
       "    }\n",
       "\n",
       "    .dataframe tbody tr th {\n",
       "        vertical-align: top;\n",
       "    }\n",
       "\n",
       "    .dataframe thead th {\n",
       "        text-align: right;\n",
       "    }\n",
       "</style>\n",
       "<table border=\"1\" class=\"dataframe\">\n",
       "  <thead>\n",
       "    <tr style=\"text-align: right;\">\n",
       "      <th></th>\n",
       "      <th>PConc</th>\n",
       "    </tr>\n",
       "  </thead>\n",
       "  <tbody>\n",
       "    <tr>\n",
       "      <th>1</th>\n",
       "      <td>1</td>\n",
       "    </tr>\n",
       "    <tr>\n",
       "      <th>2</th>\n",
       "      <td>0</td>\n",
       "    </tr>\n",
       "    <tr>\n",
       "      <th>3</th>\n",
       "      <td>1</td>\n",
       "    </tr>\n",
       "    <tr>\n",
       "      <th>4</th>\n",
       "      <td>0</td>\n",
       "    </tr>\n",
       "    <tr>\n",
       "      <th>5</th>\n",
       "      <td>1</td>\n",
       "    </tr>\n",
       "    <tr>\n",
       "      <th>...</th>\n",
       "      <td>...</td>\n",
       "    </tr>\n",
       "    <tr>\n",
       "      <th>1456</th>\n",
       "      <td>1</td>\n",
       "    </tr>\n",
       "    <tr>\n",
       "      <th>1457</th>\n",
       "      <td>0</td>\n",
       "    </tr>\n",
       "    <tr>\n",
       "      <th>1458</th>\n",
       "      <td>0</td>\n",
       "    </tr>\n",
       "    <tr>\n",
       "      <th>1459</th>\n",
       "      <td>0</td>\n",
       "    </tr>\n",
       "    <tr>\n",
       "      <th>1460</th>\n",
       "      <td>0</td>\n",
       "    </tr>\n",
       "  </tbody>\n",
       "</table>\n",
       "<p>1460 rows × 1 columns</p>\n",
       "</div>"
      ],
      "text/plain": [
       "      PConc\n",
       "1         1\n",
       "2         0\n",
       "3         1\n",
       "4         0\n",
       "5         1\n",
       "...     ...\n",
       "1456      1\n",
       "1457      0\n",
       "1458      0\n",
       "1459      0\n",
       "1460      0\n",
       "\n",
       "[1460 rows x 1 columns]"
      ]
     },
     "execution_count": 84,
     "metadata": {},
     "output_type": "execute_result"
    }
   ],
   "source": [
    "df_catg_1=df_catagarical[plus_fifty_features_catg]\n",
    "df_catg_1"
   ]
  },
  {
   "cell_type": "code",
   "execution_count": 85,
   "id": "economic-ethics",
   "metadata": {},
   "outputs": [],
   "source": [
    "df_11=pd.concat([df_catg_1,df_10],axis=1)"
   ]
  },
  {
   "cell_type": "code",
   "execution_count": 86,
   "id": "primary-football",
   "metadata": {},
   "outputs": [
    {
     "data": {
      "text/plain": [
       "[]"
      ]
     },
     "execution_count": 86,
     "metadata": {},
     "output_type": "execute_result"
    }
   ],
   "source": [
    "df_11_nan_features=[feature for feature in df_11.columns if (df_11[feature].isnull().sum())>0]\n",
    "df_11_nan_features"
   ]
  },
  {
   "cell_type": "code",
   "execution_count": 87,
   "id": "korean-nitrogen",
   "metadata": {},
   "outputs": [
    {
     "data": {
      "text/html": [
       "<div>\n",
       "<style scoped>\n",
       "    .dataframe tbody tr th:only-of-type {\n",
       "        vertical-align: middle;\n",
       "    }\n",
       "\n",
       "    .dataframe tbody tr th {\n",
       "        vertical-align: top;\n",
       "    }\n",
       "\n",
       "    .dataframe thead th {\n",
       "        text-align: right;\n",
       "    }\n",
       "</style>\n",
       "<table border=\"1\" class=\"dataframe\">\n",
       "  <thead>\n",
       "    <tr style=\"text-align: right;\">\n",
       "      <th></th>\n",
       "      <th>feature Name</th>\n",
       "      <th>no of nan rows</th>\n",
       "      <th>percentage of nan rows</th>\n",
       "      <th>rounded percentage of nan rows</th>\n",
       "    </tr>\n",
       "  </thead>\n",
       "  <tbody>\n",
       "  </tbody>\n",
       "</table>\n",
       "</div>"
      ],
      "text/plain": [
       "Empty DataFrame\n",
       "Columns: [feature Name, no of nan rows, percentage of nan rows, rounded percentage of nan rows]\n",
       "Index: []"
      ]
     },
     "execution_count": 87,
     "metadata": {},
     "output_type": "execute_result"
    }
   ],
   "source": [
    "nan_dataframe=make_dataframe_for_nan(df_10)\n",
    "nan_dataframe"
   ]
  },
  {
   "cell_type": "code",
   "execution_count": 88,
   "id": "subjective-politics",
   "metadata": {},
   "outputs": [],
   "source": [
    "#df_21=df_21.fillna(0)"
   ]
  },
  {
   "cell_type": "code",
   "execution_count": 89,
   "id": "impressive-billion",
   "metadata": {},
   "outputs": [],
   "source": [
    "#df_10['GarageYrBlt']=df_10['GarageYrBlt'].fillna(df_10['GarageYrBlt'].median())"
   ]
  },
  {
   "cell_type": "code",
   "execution_count": 90,
   "id": "filled-series",
   "metadata": {},
   "outputs": [],
   "source": [
    "#df_10['MasVnrArea']=df_10['MasVnrArea'].fillna(df_10['MasVnrArea'].median())"
   ]
  },
  {
   "cell_type": "markdown",
   "id": "straight-extent",
   "metadata": {},
   "source": [
    "### droping unrelevant or extra features and preparing independent X and dependent y features"
   ]
  },
  {
   "cell_type": "code",
   "execution_count": 96,
   "id": "injured-threshold",
   "metadata": {},
   "outputs": [],
   "source": [
    "#X_p=df_n.drop(['SalePrice','Street','Utilities'],axis='columns')\n",
    "#X=df_8\n",
    "#X=df_10\n",
    "X=df_11\n",
    "#X=df_catg_11\n",
    "y=df_n['SalePrice']"
   ]
  },
  {
   "cell_type": "markdown",
   "id": "offensive-brunei",
   "metadata": {},
   "source": [
    "### with cross validation cheking the accuracy of all regression models"
   ]
  },
  {
   "cell_type": "code",
   "execution_count": 97,
   "id": "designing-metadata",
   "metadata": {},
   "outputs": [
    {
     "data": {
      "text/html": [
       "<div>\n",
       "<style scoped>\n",
       "    .dataframe tbody tr th:only-of-type {\n",
       "        vertical-align: middle;\n",
       "    }\n",
       "\n",
       "    .dataframe tbody tr th {\n",
       "        vertical-align: top;\n",
       "    }\n",
       "\n",
       "    .dataframe thead th {\n",
       "        text-align: right;\n",
       "    }\n",
       "</style>\n",
       "<table border=\"1\" class=\"dataframe\">\n",
       "  <thead>\n",
       "    <tr style=\"text-align: right;\">\n",
       "      <th></th>\n",
       "      <th>LinearRegression()</th>\n",
       "      <th>DecisionTreeRegressor()</th>\n",
       "      <th>RandomForestRegressor()</th>\n",
       "    </tr>\n",
       "  </thead>\n",
       "  <tbody>\n",
       "    <tr>\n",
       "      <th>0</th>\n",
       "      <td>0.767296</td>\n",
       "      <td>0.750622</td>\n",
       "      <td>0.842273</td>\n",
       "    </tr>\n",
       "  </tbody>\n",
       "</table>\n",
       "</div>"
      ],
      "text/plain": [
       "   LinearRegression()  DecisionTreeRegressor()  RandomForestRegressor()\n",
       "0            0.767296                 0.750622                 0.842273"
      ]
     },
     "execution_count": 97,
     "metadata": {},
     "output_type": "execute_result"
    }
   ],
   "source": [
    "from sklearn.model_selection import cross_val_score\n",
    "from sklearn.linear_model import LinearRegression\n",
    "from sklearn.tree import DecisionTreeRegressor\n",
    "from sklearn.ensemble import RandomForestRegressor\n",
    "model_scoring={}\n",
    "def all_model_scores(model,X,y):\n",
    "    scores=cross_val_score(model,X,y,cv=10)\n",
    "    mean_score=scores.mean()\n",
    "    model_scoring.update({model:mean_score})\n",
    "    return model_scoring\n",
    "Model_list=[LinearRegression(),DecisionTreeRegressor(),RandomForestRegressor()]\n",
    "for model in Model_list:\n",
    "    score_dict=all_model_scores(model,X,y)\n",
    "df_Models_scores=pd.DataFrame(score_dict,index=[0])\n",
    "df_Models_scores"
   ]
  },
  {
   "cell_type": "raw",
   "id": "contemporary-milan",
   "metadata": {},
   "source": [
    "NOTE:\n",
    "Average score is droped to 73% by removing features ,'OverallQual','GrLivArea',\n",
    "\n",
    "below experiments is performed on RandomForestRegressor()\n",
    "cross validation score with 33 features (X_p) is  0.8526637671146133\n",
    "cross validation score with 8 features (df_8) is  0.8243050235720837\n",
    "cross validation score with 8 features (df_8) by droping nan is 0.8189568877523141\n",
    "cross validation score with 10 features (df_10) without droping nan is:0.838561"
   ]
  },
  {
   "cell_type": "markdown",
   "id": "included-anatomy",
   "metadata": {},
   "source": [
    "### spliting into test and train data"
   ]
  },
  {
   "cell_type": "code",
   "execution_count": 98,
   "id": "capable-wound",
   "metadata": {},
   "outputs": [],
   "source": [
    "from sklearn.model_selection import train_test_split\n",
    "X_train, X_test, y_train, y_test = train_test_split(X, y, test_size=0.2,random_state=42)"
   ]
  },
  {
   "cell_type": "markdown",
   "id": "ahead-small",
   "metadata": {},
   "source": [
    "### percentage of X_p features out of total features"
   ]
  },
  {
   "cell_type": "code",
   "execution_count": 99,
   "id": "alert-african",
   "metadata": {},
   "outputs": [],
   "source": [
    "# X_p.shape[1]/df.shape[1]*100"
   ]
  },
  {
   "cell_type": "markdown",
   "id": "casual-edgar",
   "metadata": {},
   "source": [
    "### percentage features on which i train data out of total features"
   ]
  },
  {
   "cell_type": "code",
   "execution_count": 100,
   "id": "elegant-alberta",
   "metadata": {},
   "outputs": [
    {
     "data": {
      "text/plain": [
       "14.473684210526317"
      ]
     },
     "execution_count": 100,
     "metadata": {},
     "output_type": "execute_result"
    }
   ],
   "source": [
    "X_train.shape[1]/df.shape[1]*100"
   ]
  },
  {
   "cell_type": "markdown",
   "id": "different-license",
   "metadata": {},
   "source": [
    "### creating model and train data"
   ]
  },
  {
   "cell_type": "code",
   "execution_count": 101,
   "id": "conservative-mobile",
   "metadata": {},
   "outputs": [],
   "source": [
    "from sklearn.linear_model import LinearRegression\n",
    "from sklearn.tree import DecisionTreeRegressor\n",
    "from sklearn.ensemble import RandomForestRegressor\n",
    "#model = LinearRegression()\n",
    "#model = DecisionTreeRegressor()\n",
    "model = RandomForestRegressor()"
   ]
  },
  {
   "cell_type": "code",
   "execution_count": 102,
   "id": "exempt-drama",
   "metadata": {},
   "outputs": [
    {
     "data": {
      "text/plain": [
       "RandomForestRegressor()"
      ]
     },
     "execution_count": 102,
     "metadata": {},
     "output_type": "execute_result"
    }
   ],
   "source": [
    "model.fit(X_train,y_train)"
   ]
  },
  {
   "cell_type": "markdown",
   "id": "latest-curve",
   "metadata": {},
   "source": [
    "### train accuracy"
   ]
  },
  {
   "cell_type": "code",
   "execution_count": 103,
   "id": "polish-clause",
   "metadata": {},
   "outputs": [
    {
     "data": {
      "text/plain": [
       "0.9757298499168607"
      ]
     },
     "execution_count": 103,
     "metadata": {},
     "output_type": "execute_result"
    }
   ],
   "source": [
    "model.score(X_train,y_train)"
   ]
  },
  {
   "cell_type": "markdown",
   "id": "grave-rider",
   "metadata": {},
   "source": [
    "### test accuracy"
   ]
  },
  {
   "cell_type": "code",
   "execution_count": 104,
   "id": "brutal-factory",
   "metadata": {},
   "outputs": [
    {
     "data": {
      "text/plain": [
       "0.8855622267034551"
      ]
     },
     "execution_count": 104,
     "metadata": {},
     "output_type": "execute_result"
    }
   ],
   "source": [
    "model.score(X_test,y_test)"
   ]
  },
  {
   "cell_type": "markdown",
   "id": "commercial-daughter",
   "metadata": {},
   "source": [
    "### MSE and RMSE"
   ]
  },
  {
   "cell_type": "code",
   "execution_count": 105,
   "id": "willing-crown",
   "metadata": {},
   "outputs": [
    {
     "name": "stdout",
     "output_type": "stream",
     "text": [
      "877775051.6086271\n",
      "29627.268716650666\n"
     ]
    }
   ],
   "source": [
    "from sklearn.metrics import mean_squared_error\n",
    "import numpy as np\n",
    "predictions = model.predict(X_test)\n",
    "mse = mean_squared_error(y_test,predictions)\n",
    "rmse = np.sqrt(mse)\n",
    "print(mse)\n",
    "print(rmse)"
   ]
  },
  {
   "cell_type": "raw",
   "id": "literary-pioneer",
   "metadata": {},
   "source": [
    "Note:\n",
    "linear regression:\n",
    "\n",
    "RMSE for train = 34792.170942290504\n",
    "RMSE for test = 36880.3515243915\n",
    "\n",
    "Decision tree regression:\n",
    "\n",
    "RMSE for train:171.72822188499134\n",
    "RMSE for test:42497.741521135686\n",
    "\n",
    "Random Forest Regression:\n",
    "\n",
    "RMSE for train= 12234.364640796199\n",
    "RMSE for test = 29212.728361099045\n",
    "\n",
    "for applying df_8 for training of data RMSE is not more affected it remains around 30000\n",
    "by dropping nan on df_8 RMSE is 31994.817898919227"
   ]
  },
  {
   "cell_type": "markdown",
   "id": "owned-communist",
   "metadata": {},
   "source": [
    "### cheking predictions on X_test and comparing difference"
   ]
  },
  {
   "cell_type": "code",
   "execution_count": 106,
   "id": "primary-application",
   "metadata": {},
   "outputs": [
    {
     "name": "stdout",
     "output_type": "stream",
     "text": [
      "[141388. 312905. 113272. 164360. 318567.]\n",
      "[154500, 325000, 115000, 159000, 315500]\n",
      "[13112. 12095.  1728. -5360. -3067.]\n"
     ]
    }
   ],
   "source": [
    "import numpy as np\n",
    "y_pred=model.predict(X_test.iloc[:5])\n",
    "y_pred=np.round(y_pred)\n",
    "y_true=list(y_test.iloc[:5])\n",
    "diff=y_true-y_pred\n",
    "print(y_pred)\n",
    "print(y_true)\n",
    "print(diff)"
   ]
  },
  {
   "cell_type": "markdown",
   "id": "opening-location",
   "metadata": {},
   "source": [
    "### saving model using pickle"
   ]
  },
  {
   "cell_type": "code",
   "execution_count": 107,
   "id": "apart-shopper",
   "metadata": {},
   "outputs": [],
   "source": [
    "import pickle\n",
    "pickle.dump(model, open('Random_forest_regressor.pkl','wb'))"
   ]
  },
  {
   "cell_type": "markdown",
   "id": "sought-thomas",
   "metadata": {},
   "source": [
    "### loading model for predictions"
   ]
  },
  {
   "cell_type": "code",
   "execution_count": 108,
   "id": "lesbian-meaning",
   "metadata": {},
   "outputs": [],
   "source": [
    "model_ = pickle.load(open('Random_forest_regressor.pkl','rb'))"
   ]
  },
  {
   "cell_type": "code",
   "execution_count": 109,
   "id": "induced-spyware",
   "metadata": {},
   "outputs": [
    {
     "data": {
      "text/html": [
       "<div>\n",
       "<style scoped>\n",
       "    .dataframe tbody tr th:only-of-type {\n",
       "        vertical-align: middle;\n",
       "    }\n",
       "\n",
       "    .dataframe tbody tr th {\n",
       "        vertical-align: top;\n",
       "    }\n",
       "\n",
       "    .dataframe thead th {\n",
       "        text-align: right;\n",
       "    }\n",
       "</style>\n",
       "<table border=\"1\" class=\"dataframe\">\n",
       "  <thead>\n",
       "    <tr style=\"text-align: right;\">\n",
       "      <th></th>\n",
       "      <th>PConc</th>\n",
       "      <th>OverallQual</th>\n",
       "      <th>GrLivArea</th>\n",
       "      <th>GarageCars</th>\n",
       "      <th>GarageArea</th>\n",
       "      <th>TotalBsmtSF</th>\n",
       "      <th>1stFlrSF</th>\n",
       "      <th>FullBath</th>\n",
       "      <th>TotRmsAbvGrd</th>\n",
       "      <th>YearBuilt</th>\n",
       "      <th>YearRemodAdd</th>\n",
       "    </tr>\n",
       "  </thead>\n",
       "  <tbody>\n",
       "    <tr>\n",
       "      <th>893</th>\n",
       "      <td>0</td>\n",
       "      <td>6</td>\n",
       "      <td>1068</td>\n",
       "      <td>1</td>\n",
       "      <td>264</td>\n",
       "      <td>1059</td>\n",
       "      <td>1068</td>\n",
       "      <td>1</td>\n",
       "      <td>6</td>\n",
       "      <td>1963</td>\n",
       "      <td>2003</td>\n",
       "    </tr>\n",
       "    <tr>\n",
       "      <th>1106</th>\n",
       "      <td>1</td>\n",
       "      <td>8</td>\n",
       "      <td>2622</td>\n",
       "      <td>2</td>\n",
       "      <td>712</td>\n",
       "      <td>1463</td>\n",
       "      <td>1500</td>\n",
       "      <td>2</td>\n",
       "      <td>9</td>\n",
       "      <td>1994</td>\n",
       "      <td>1995</td>\n",
       "    </tr>\n",
       "    <tr>\n",
       "      <th>414</th>\n",
       "      <td>0</td>\n",
       "      <td>5</td>\n",
       "      <td>1028</td>\n",
       "      <td>2</td>\n",
       "      <td>360</td>\n",
       "      <td>1008</td>\n",
       "      <td>1028</td>\n",
       "      <td>1</td>\n",
       "      <td>5</td>\n",
       "      <td>1927</td>\n",
       "      <td>1950</td>\n",
       "    </tr>\n",
       "    <tr>\n",
       "      <th>523</th>\n",
       "      <td>0</td>\n",
       "      <td>6</td>\n",
       "      <td>1664</td>\n",
       "      <td>2</td>\n",
       "      <td>420</td>\n",
       "      <td>1004</td>\n",
       "      <td>1004</td>\n",
       "      <td>2</td>\n",
       "      <td>7</td>\n",
       "      <td>1947</td>\n",
       "      <td>1950</td>\n",
       "    </tr>\n",
       "    <tr>\n",
       "      <th>1037</th>\n",
       "      <td>1</td>\n",
       "      <td>9</td>\n",
       "      <td>1620</td>\n",
       "      <td>3</td>\n",
       "      <td>912</td>\n",
       "      <td>1620</td>\n",
       "      <td>1620</td>\n",
       "      <td>2</td>\n",
       "      <td>6</td>\n",
       "      <td>2007</td>\n",
       "      <td>2008</td>\n",
       "    </tr>\n",
       "    <tr>\n",
       "      <th>...</th>\n",
       "      <td>...</td>\n",
       "      <td>...</td>\n",
       "      <td>...</td>\n",
       "      <td>...</td>\n",
       "      <td>...</td>\n",
       "      <td>...</td>\n",
       "      <td>...</td>\n",
       "      <td>...</td>\n",
       "      <td>...</td>\n",
       "      <td>...</td>\n",
       "      <td>...</td>\n",
       "    </tr>\n",
       "    <tr>\n",
       "      <th>480</th>\n",
       "      <td>0</td>\n",
       "      <td>4</td>\n",
       "      <td>1131</td>\n",
       "      <td>2</td>\n",
       "      <td>672</td>\n",
       "      <td>907</td>\n",
       "      <td>1131</td>\n",
       "      <td>1</td>\n",
       "      <td>7</td>\n",
       "      <td>1937</td>\n",
       "      <td>2000</td>\n",
       "    </tr>\n",
       "    <tr>\n",
       "      <th>1362</th>\n",
       "      <td>1</td>\n",
       "      <td>7</td>\n",
       "      <td>1530</td>\n",
       "      <td>2</td>\n",
       "      <td>430</td>\n",
       "      <td>1530</td>\n",
       "      <td>1530</td>\n",
       "      <td>2</td>\n",
       "      <td>7</td>\n",
       "      <td>2005</td>\n",
       "      <td>2005</td>\n",
       "    </tr>\n",
       "    <tr>\n",
       "      <th>803</th>\n",
       "      <td>1</td>\n",
       "      <td>7</td>\n",
       "      <td>1456</td>\n",
       "      <td>2</td>\n",
       "      <td>410</td>\n",
       "      <td>728</td>\n",
       "      <td>728</td>\n",
       "      <td>2</td>\n",
       "      <td>7</td>\n",
       "      <td>2005</td>\n",
       "      <td>2005</td>\n",
       "    </tr>\n",
       "    <tr>\n",
       "      <th>652</th>\n",
       "      <td>0</td>\n",
       "      <td>4</td>\n",
       "      <td>1510</td>\n",
       "      <td>1</td>\n",
       "      <td>296</td>\n",
       "      <td>755</td>\n",
       "      <td>755</td>\n",
       "      <td>1</td>\n",
       "      <td>7</td>\n",
       "      <td>1940</td>\n",
       "      <td>1950</td>\n",
       "    </tr>\n",
       "    <tr>\n",
       "      <th>723</th>\n",
       "      <td>0</td>\n",
       "      <td>4</td>\n",
       "      <td>864</td>\n",
       "      <td>2</td>\n",
       "      <td>463</td>\n",
       "      <td>864</td>\n",
       "      <td>864</td>\n",
       "      <td>1</td>\n",
       "      <td>5</td>\n",
       "      <td>1970</td>\n",
       "      <td>1970</td>\n",
       "    </tr>\n",
       "  </tbody>\n",
       "</table>\n",
       "<p>292 rows × 11 columns</p>\n",
       "</div>"
      ],
      "text/plain": [
       "      PConc  OverallQual  GrLivArea  GarageCars  GarageArea  TotalBsmtSF  \\\n",
       "893       0            6       1068           1         264         1059   \n",
       "1106      1            8       2622           2         712         1463   \n",
       "414       0            5       1028           2         360         1008   \n",
       "523       0            6       1664           2         420         1004   \n",
       "1037      1            9       1620           3         912         1620   \n",
       "...     ...          ...        ...         ...         ...          ...   \n",
       "480       0            4       1131           2         672          907   \n",
       "1362      1            7       1530           2         430         1530   \n",
       "803       1            7       1456           2         410          728   \n",
       "652       0            4       1510           1         296          755   \n",
       "723       0            4        864           2         463          864   \n",
       "\n",
       "      1stFlrSF  FullBath  TotRmsAbvGrd  YearBuilt  YearRemodAdd  \n",
       "893       1068         1             6       1963          2003  \n",
       "1106      1500         2             9       1994          1995  \n",
       "414       1028         1             5       1927          1950  \n",
       "523       1004         2             7       1947          1950  \n",
       "1037      1620         2             6       2007          2008  \n",
       "...        ...       ...           ...        ...           ...  \n",
       "480       1131         1             7       1937          2000  \n",
       "1362      1530         2             7       2005          2005  \n",
       "803        728         2             7       2005          2005  \n",
       "652        755         1             7       1940          1950  \n",
       "723        864         1             5       1970          1970  \n",
       "\n",
       "[292 rows x 11 columns]"
      ]
     },
     "execution_count": 109,
     "metadata": {},
     "output_type": "execute_result"
    }
   ],
   "source": [
    "X_test"
   ]
  },
  {
   "cell_type": "code",
   "execution_count": 112,
   "id": "adolescent-yellow",
   "metadata": {},
   "outputs": [
    {
     "name": "stdout",
     "output_type": "stream",
     "text": [
      "[140474.5]\n"
     ]
    }
   ],
   "source": [
    "print(model_.predict([[0,6,1072,2,264,1059,1068,2,5,1963,2003]]))"
   ]
  },
  {
   "cell_type": "code",
   "execution_count": 113,
   "id": "forward-austria",
   "metadata": {},
   "outputs": [
    {
     "data": {
      "text/plain": [
       "141387.75"
      ]
     },
     "execution_count": 113,
     "metadata": {},
     "output_type": "execute_result"
    }
   ],
   "source": [
    "(model.predict(X_test))[0]"
   ]
  },
  {
   "cell_type": "raw",
   "id": "valuable-focus",
   "metadata": {},
   "source": [
    "Note their is difference of predictions in every same model"
   ]
  }
 ],
 "metadata": {
  "kernelspec": {
   "display_name": "Python 3",
   "language": "python",
   "name": "python3"
  },
  "language_info": {
   "codemirror_mode": {
    "name": "ipython",
    "version": 3
   },
   "file_extension": ".py",
   "mimetype": "text/x-python",
   "name": "python",
   "nbconvert_exporter": "python",
   "pygments_lexer": "ipython3",
   "version": "3.9.1"
  }
 },
 "nbformat": 4,
 "nbformat_minor": 5
}
