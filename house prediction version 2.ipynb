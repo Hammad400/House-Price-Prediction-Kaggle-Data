{
 "cells": [
  {
   "cell_type": "markdown",
   "id": "aging-corporation",
   "metadata": {},
   "source": [
    "### loading data"
   ]
  },
  {
   "cell_type": "code",
   "execution_count": 3,
   "id": "hired-aquarium",
   "metadata": {},
   "outputs": [],
   "source": [
    "import pandas as pd"
   ]
  },
  {
   "cell_type": "code",
   "execution_count": 4,
   "id": "pleasant-blanket",
   "metadata": {},
   "outputs": [
    {
     "data": {
      "text/html": [
       "<div>\n",
       "<style scoped>\n",
       "    .dataframe tbody tr th:only-of-type {\n",
       "        vertical-align: middle;\n",
       "    }\n",
       "\n",
       "    .dataframe tbody tr th {\n",
       "        vertical-align: top;\n",
       "    }\n",
       "\n",
       "    .dataframe thead th {\n",
       "        text-align: right;\n",
       "    }\n",
       "</style>\n",
       "<table border=\"1\" class=\"dataframe\">\n",
       "  <thead>\n",
       "    <tr style=\"text-align: right;\">\n",
       "      <th></th>\n",
       "      <th>Id</th>\n",
       "      <th>MSSubClass</th>\n",
       "      <th>MSZoning</th>\n",
       "      <th>LotFrontage</th>\n",
       "      <th>LotArea</th>\n",
       "      <th>Street</th>\n",
       "      <th>Alley</th>\n",
       "      <th>LotShape</th>\n",
       "      <th>LandContour</th>\n",
       "      <th>Utilities</th>\n",
       "      <th>...</th>\n",
       "      <th>PoolArea</th>\n",
       "      <th>PoolQC</th>\n",
       "      <th>Fence</th>\n",
       "      <th>MiscFeature</th>\n",
       "      <th>MiscVal</th>\n",
       "      <th>MoSold</th>\n",
       "      <th>YrSold</th>\n",
       "      <th>SaleType</th>\n",
       "      <th>SaleCondition</th>\n",
       "      <th>SalePrice</th>\n",
       "    </tr>\n",
       "  </thead>\n",
       "  <tbody>\n",
       "    <tr>\n",
       "      <th>0</th>\n",
       "      <td>1</td>\n",
       "      <td>60</td>\n",
       "      <td>RL</td>\n",
       "      <td>65.0</td>\n",
       "      <td>8450</td>\n",
       "      <td>Pave</td>\n",
       "      <td>NaN</td>\n",
       "      <td>Reg</td>\n",
       "      <td>Lvl</td>\n",
       "      <td>AllPub</td>\n",
       "      <td>...</td>\n",
       "      <td>0</td>\n",
       "      <td>NaN</td>\n",
       "      <td>NaN</td>\n",
       "      <td>NaN</td>\n",
       "      <td>0</td>\n",
       "      <td>2</td>\n",
       "      <td>2008</td>\n",
       "      <td>WD</td>\n",
       "      <td>Normal</td>\n",
       "      <td>208500</td>\n",
       "    </tr>\n",
       "    <tr>\n",
       "      <th>1</th>\n",
       "      <td>2</td>\n",
       "      <td>20</td>\n",
       "      <td>RL</td>\n",
       "      <td>80.0</td>\n",
       "      <td>9600</td>\n",
       "      <td>Pave</td>\n",
       "      <td>NaN</td>\n",
       "      <td>Reg</td>\n",
       "      <td>Lvl</td>\n",
       "      <td>AllPub</td>\n",
       "      <td>...</td>\n",
       "      <td>0</td>\n",
       "      <td>NaN</td>\n",
       "      <td>NaN</td>\n",
       "      <td>NaN</td>\n",
       "      <td>0</td>\n",
       "      <td>5</td>\n",
       "      <td>2007</td>\n",
       "      <td>WD</td>\n",
       "      <td>Normal</td>\n",
       "      <td>181500</td>\n",
       "    </tr>\n",
       "    <tr>\n",
       "      <th>2</th>\n",
       "      <td>3</td>\n",
       "      <td>60</td>\n",
       "      <td>RL</td>\n",
       "      <td>68.0</td>\n",
       "      <td>11250</td>\n",
       "      <td>Pave</td>\n",
       "      <td>NaN</td>\n",
       "      <td>IR1</td>\n",
       "      <td>Lvl</td>\n",
       "      <td>AllPub</td>\n",
       "      <td>...</td>\n",
       "      <td>0</td>\n",
       "      <td>NaN</td>\n",
       "      <td>NaN</td>\n",
       "      <td>NaN</td>\n",
       "      <td>0</td>\n",
       "      <td>9</td>\n",
       "      <td>2008</td>\n",
       "      <td>WD</td>\n",
       "      <td>Normal</td>\n",
       "      <td>223500</td>\n",
       "    </tr>\n",
       "    <tr>\n",
       "      <th>3</th>\n",
       "      <td>4</td>\n",
       "      <td>70</td>\n",
       "      <td>RL</td>\n",
       "      <td>60.0</td>\n",
       "      <td>9550</td>\n",
       "      <td>Pave</td>\n",
       "      <td>NaN</td>\n",
       "      <td>IR1</td>\n",
       "      <td>Lvl</td>\n",
       "      <td>AllPub</td>\n",
       "      <td>...</td>\n",
       "      <td>0</td>\n",
       "      <td>NaN</td>\n",
       "      <td>NaN</td>\n",
       "      <td>NaN</td>\n",
       "      <td>0</td>\n",
       "      <td>2</td>\n",
       "      <td>2006</td>\n",
       "      <td>WD</td>\n",
       "      <td>Abnorml</td>\n",
       "      <td>140000</td>\n",
       "    </tr>\n",
       "    <tr>\n",
       "      <th>4</th>\n",
       "      <td>5</td>\n",
       "      <td>60</td>\n",
       "      <td>RL</td>\n",
       "      <td>84.0</td>\n",
       "      <td>14260</td>\n",
       "      <td>Pave</td>\n",
       "      <td>NaN</td>\n",
       "      <td>IR1</td>\n",
       "      <td>Lvl</td>\n",
       "      <td>AllPub</td>\n",
       "      <td>...</td>\n",
       "      <td>0</td>\n",
       "      <td>NaN</td>\n",
       "      <td>NaN</td>\n",
       "      <td>NaN</td>\n",
       "      <td>0</td>\n",
       "      <td>12</td>\n",
       "      <td>2008</td>\n",
       "      <td>WD</td>\n",
       "      <td>Normal</td>\n",
       "      <td>250000</td>\n",
       "    </tr>\n",
       "    <tr>\n",
       "      <th>...</th>\n",
       "      <td>...</td>\n",
       "      <td>...</td>\n",
       "      <td>...</td>\n",
       "      <td>...</td>\n",
       "      <td>...</td>\n",
       "      <td>...</td>\n",
       "      <td>...</td>\n",
       "      <td>...</td>\n",
       "      <td>...</td>\n",
       "      <td>...</td>\n",
       "      <td>...</td>\n",
       "      <td>...</td>\n",
       "      <td>...</td>\n",
       "      <td>...</td>\n",
       "      <td>...</td>\n",
       "      <td>...</td>\n",
       "      <td>...</td>\n",
       "      <td>...</td>\n",
       "      <td>...</td>\n",
       "      <td>...</td>\n",
       "      <td>...</td>\n",
       "    </tr>\n",
       "    <tr>\n",
       "      <th>1455</th>\n",
       "      <td>1456</td>\n",
       "      <td>60</td>\n",
       "      <td>RL</td>\n",
       "      <td>62.0</td>\n",
       "      <td>7917</td>\n",
       "      <td>Pave</td>\n",
       "      <td>NaN</td>\n",
       "      <td>Reg</td>\n",
       "      <td>Lvl</td>\n",
       "      <td>AllPub</td>\n",
       "      <td>...</td>\n",
       "      <td>0</td>\n",
       "      <td>NaN</td>\n",
       "      <td>NaN</td>\n",
       "      <td>NaN</td>\n",
       "      <td>0</td>\n",
       "      <td>8</td>\n",
       "      <td>2007</td>\n",
       "      <td>WD</td>\n",
       "      <td>Normal</td>\n",
       "      <td>175000</td>\n",
       "    </tr>\n",
       "    <tr>\n",
       "      <th>1456</th>\n",
       "      <td>1457</td>\n",
       "      <td>20</td>\n",
       "      <td>RL</td>\n",
       "      <td>85.0</td>\n",
       "      <td>13175</td>\n",
       "      <td>Pave</td>\n",
       "      <td>NaN</td>\n",
       "      <td>Reg</td>\n",
       "      <td>Lvl</td>\n",
       "      <td>AllPub</td>\n",
       "      <td>...</td>\n",
       "      <td>0</td>\n",
       "      <td>NaN</td>\n",
       "      <td>MnPrv</td>\n",
       "      <td>NaN</td>\n",
       "      <td>0</td>\n",
       "      <td>2</td>\n",
       "      <td>2010</td>\n",
       "      <td>WD</td>\n",
       "      <td>Normal</td>\n",
       "      <td>210000</td>\n",
       "    </tr>\n",
       "    <tr>\n",
       "      <th>1457</th>\n",
       "      <td>1458</td>\n",
       "      <td>70</td>\n",
       "      <td>RL</td>\n",
       "      <td>66.0</td>\n",
       "      <td>9042</td>\n",
       "      <td>Pave</td>\n",
       "      <td>NaN</td>\n",
       "      <td>Reg</td>\n",
       "      <td>Lvl</td>\n",
       "      <td>AllPub</td>\n",
       "      <td>...</td>\n",
       "      <td>0</td>\n",
       "      <td>NaN</td>\n",
       "      <td>GdPrv</td>\n",
       "      <td>Shed</td>\n",
       "      <td>2500</td>\n",
       "      <td>5</td>\n",
       "      <td>2010</td>\n",
       "      <td>WD</td>\n",
       "      <td>Normal</td>\n",
       "      <td>266500</td>\n",
       "    </tr>\n",
       "    <tr>\n",
       "      <th>1458</th>\n",
       "      <td>1459</td>\n",
       "      <td>20</td>\n",
       "      <td>RL</td>\n",
       "      <td>68.0</td>\n",
       "      <td>9717</td>\n",
       "      <td>Pave</td>\n",
       "      <td>NaN</td>\n",
       "      <td>Reg</td>\n",
       "      <td>Lvl</td>\n",
       "      <td>AllPub</td>\n",
       "      <td>...</td>\n",
       "      <td>0</td>\n",
       "      <td>NaN</td>\n",
       "      <td>NaN</td>\n",
       "      <td>NaN</td>\n",
       "      <td>0</td>\n",
       "      <td>4</td>\n",
       "      <td>2010</td>\n",
       "      <td>WD</td>\n",
       "      <td>Normal</td>\n",
       "      <td>142125</td>\n",
       "    </tr>\n",
       "    <tr>\n",
       "      <th>1459</th>\n",
       "      <td>1460</td>\n",
       "      <td>20</td>\n",
       "      <td>RL</td>\n",
       "      <td>75.0</td>\n",
       "      <td>9937</td>\n",
       "      <td>Pave</td>\n",
       "      <td>NaN</td>\n",
       "      <td>Reg</td>\n",
       "      <td>Lvl</td>\n",
       "      <td>AllPub</td>\n",
       "      <td>...</td>\n",
       "      <td>0</td>\n",
       "      <td>NaN</td>\n",
       "      <td>NaN</td>\n",
       "      <td>NaN</td>\n",
       "      <td>0</td>\n",
       "      <td>6</td>\n",
       "      <td>2008</td>\n",
       "      <td>WD</td>\n",
       "      <td>Normal</td>\n",
       "      <td>147500</td>\n",
       "    </tr>\n",
       "  </tbody>\n",
       "</table>\n",
       "<p>1460 rows × 81 columns</p>\n",
       "</div>"
      ],
      "text/plain": [
       "        Id  MSSubClass MSZoning  LotFrontage  LotArea Street Alley LotShape  \\\n",
       "0        1          60       RL         65.0     8450   Pave   NaN      Reg   \n",
       "1        2          20       RL         80.0     9600   Pave   NaN      Reg   \n",
       "2        3          60       RL         68.0    11250   Pave   NaN      IR1   \n",
       "3        4          70       RL         60.0     9550   Pave   NaN      IR1   \n",
       "4        5          60       RL         84.0    14260   Pave   NaN      IR1   \n",
       "...    ...         ...      ...          ...      ...    ...   ...      ...   \n",
       "1455  1456          60       RL         62.0     7917   Pave   NaN      Reg   \n",
       "1456  1457          20       RL         85.0    13175   Pave   NaN      Reg   \n",
       "1457  1458          70       RL         66.0     9042   Pave   NaN      Reg   \n",
       "1458  1459          20       RL         68.0     9717   Pave   NaN      Reg   \n",
       "1459  1460          20       RL         75.0     9937   Pave   NaN      Reg   \n",
       "\n",
       "     LandContour Utilities  ... PoolArea PoolQC  Fence MiscFeature MiscVal  \\\n",
       "0            Lvl    AllPub  ...        0    NaN    NaN         NaN       0   \n",
       "1            Lvl    AllPub  ...        0    NaN    NaN         NaN       0   \n",
       "2            Lvl    AllPub  ...        0    NaN    NaN         NaN       0   \n",
       "3            Lvl    AllPub  ...        0    NaN    NaN         NaN       0   \n",
       "4            Lvl    AllPub  ...        0    NaN    NaN         NaN       0   \n",
       "...          ...       ...  ...      ...    ...    ...         ...     ...   \n",
       "1455         Lvl    AllPub  ...        0    NaN    NaN         NaN       0   \n",
       "1456         Lvl    AllPub  ...        0    NaN  MnPrv         NaN       0   \n",
       "1457         Lvl    AllPub  ...        0    NaN  GdPrv        Shed    2500   \n",
       "1458         Lvl    AllPub  ...        0    NaN    NaN         NaN       0   \n",
       "1459         Lvl    AllPub  ...        0    NaN    NaN         NaN       0   \n",
       "\n",
       "     MoSold YrSold  SaleType  SaleCondition  SalePrice  \n",
       "0         2   2008        WD         Normal     208500  \n",
       "1         5   2007        WD         Normal     181500  \n",
       "2         9   2008        WD         Normal     223500  \n",
       "3         2   2006        WD        Abnorml     140000  \n",
       "4        12   2008        WD         Normal     250000  \n",
       "...     ...    ...       ...            ...        ...  \n",
       "1455      8   2007        WD         Normal     175000  \n",
       "1456      2   2010        WD         Normal     210000  \n",
       "1457      5   2010        WD         Normal     266500  \n",
       "1458      4   2010        WD         Normal     142125  \n",
       "1459      6   2008        WD         Normal     147500  \n",
       "\n",
       "[1460 rows x 81 columns]"
      ]
     },
     "execution_count": 4,
     "metadata": {},
     "output_type": "execute_result"
    }
   ],
   "source": [
    "df=pd.read_csv('train.csv')\n",
    "df"
   ]
  },
  {
   "cell_type": "markdown",
   "id": "sticky-outdoors",
   "metadata": {},
   "source": [
    "### exploring numerical features"
   ]
  },
  {
   "cell_type": "code",
   "execution_count": 3,
   "id": "dense-excuse",
   "metadata": {},
   "outputs": [
    {
     "data": {
      "text/plain": [
       "Id                 0\n",
       "MSSubClass         0\n",
       "MSZoning           0\n",
       "LotFrontage      259\n",
       "LotArea            0\n",
       "                ... \n",
       "MoSold             0\n",
       "YrSold             0\n",
       "SaleType           0\n",
       "SaleCondition      0\n",
       "SalePrice          0\n",
       "Length: 81, dtype: int64"
      ]
     },
     "execution_count": 3,
     "metadata": {},
     "output_type": "execute_result"
    }
   ],
   "source": [
    "df.isnull().sum()"
   ]
  },
  {
   "cell_type": "code",
   "execution_count": 4,
   "id": "spread-classroom",
   "metadata": {},
   "outputs": [],
   "source": [
    "nan_features_df=[feature for feature in df.columns if (df[feature].isnull().sum())>0]"
   ]
  },
  {
   "cell_type": "code",
   "execution_count": 5,
   "id": "blank-illustration",
   "metadata": {},
   "outputs": [
    {
     "data": {
      "text/plain": [
       "6965"
      ]
     },
     "execution_count": 5,
     "metadata": {},
     "output_type": "execute_result"
    }
   ],
   "source": [
    "no_of_nan_cells=sum(list(df.isnull().sum()))\n",
    "no_of_nan_cells"
   ]
  },
  {
   "cell_type": "code",
   "execution_count": 6,
   "id": "partial-lease",
   "metadata": {},
   "outputs": [
    {
     "data": {
      "text/plain": [
       "118260"
      ]
     },
     "execution_count": 6,
     "metadata": {},
     "output_type": "execute_result"
    }
   ],
   "source": [
    "total_cells=df.shape[0]*df.shape[1]\n",
    "total_cells"
   ]
  },
  {
   "cell_type": "code",
   "execution_count": 7,
   "id": "minute-integrity",
   "metadata": {},
   "outputs": [
    {
     "data": {
      "text/plain": [
       "111295"
      ]
     },
     "execution_count": 7,
     "metadata": {},
     "output_type": "execute_result"
    }
   ],
   "source": [
    "unempty_cells=total_cells-no_of_nan_cells\n",
    "unempty_cells"
   ]
  },
  {
   "cell_type": "code",
   "execution_count": 8,
   "id": "expressed-failure",
   "metadata": {},
   "outputs": [
    {
     "data": {
      "text/plain": [
       "0.9411043463554879"
      ]
     },
     "execution_count": 8,
     "metadata": {},
     "output_type": "execute_result"
    }
   ],
   "source": [
    "unempty_cells_percentage=unempty_cells/total_cells\n",
    "unempty_cells_percentage"
   ]
  },
  {
   "cell_type": "code",
   "execution_count": 9,
   "id": "variable-dallas",
   "metadata": {},
   "outputs": [
    {
     "data": {
      "text/plain": [
       "23.456790123456788"
      ]
     },
     "execution_count": 9,
     "metadata": {},
     "output_type": "execute_result"
    }
   ],
   "source": [
    "len(nan_features_df)/df.shape[1]*100"
   ]
  },
  {
   "cell_type": "code",
   "execution_count": 10,
   "id": "liked-locking",
   "metadata": {},
   "outputs": [],
   "source": [
    "numerical_features = [feature for feature in df.columns if df[feature].dtypes != 'O']"
   ]
  },
  {
   "cell_type": "code",
   "execution_count": 11,
   "id": "middle-floating",
   "metadata": {},
   "outputs": [
    {
     "data": {
      "text/plain": [
       "['MSZoning',\n",
       " 'Street',\n",
       " 'Alley',\n",
       " 'LotShape',\n",
       " 'LandContour',\n",
       " 'Utilities',\n",
       " 'LotConfig',\n",
       " 'LandSlope',\n",
       " 'Neighborhood',\n",
       " 'Condition1',\n",
       " 'Condition2',\n",
       " 'BldgType',\n",
       " 'HouseStyle',\n",
       " 'RoofStyle',\n",
       " 'RoofMatl',\n",
       " 'Exterior1st',\n",
       " 'Exterior2nd',\n",
       " 'MasVnrType',\n",
       " 'ExterQual',\n",
       " 'ExterCond',\n",
       " 'Foundation',\n",
       " 'BsmtQual',\n",
       " 'BsmtCond',\n",
       " 'BsmtExposure',\n",
       " 'BsmtFinType1',\n",
       " 'BsmtFinType2',\n",
       " 'Heating',\n",
       " 'HeatingQC',\n",
       " 'CentralAir',\n",
       " 'Electrical',\n",
       " 'KitchenQual',\n",
       " 'Functional',\n",
       " 'FireplaceQu',\n",
       " 'GarageType',\n",
       " 'GarageFinish',\n",
       " 'GarageQual',\n",
       " 'GarageCond',\n",
       " 'PavedDrive',\n",
       " 'PoolQC',\n",
       " 'Fence',\n",
       " 'MiscFeature',\n",
       " 'SaleType',\n",
       " 'SaleCondition']"
      ]
     },
     "execution_count": 11,
     "metadata": {},
     "output_type": "execute_result"
    }
   ],
   "source": [
    "catagarical_features = [feature for feature in df.columns if df[feature].dtypes == 'O']\n",
    "catagarical_features"
   ]
  },
  {
   "cell_type": "code",
   "execution_count": 12,
   "id": "higher-brunei",
   "metadata": {},
   "outputs": [],
   "source": [
    "catg_2_features=[]\n",
    "for feature in catagarical_features:\n",
    "    if len(df[feature].unique())==2:\n",
    "        catg_2_features.append(feature)"
   ]
  },
  {
   "cell_type": "code",
   "execution_count": 13,
   "id": "cosmetic-concern",
   "metadata": {},
   "outputs": [
    {
     "data": {
      "text/plain": [
       "['Street', 'Utilities', 'CentralAir']"
      ]
     },
     "execution_count": 13,
     "metadata": {},
     "output_type": "execute_result"
    }
   ],
   "source": [
    "catg_2_features"
   ]
  },
  {
   "cell_type": "code",
   "execution_count": 14,
   "id": "characteristic-amateur",
   "metadata": {},
   "outputs": [
    {
     "data": {
      "text/plain": [
       "Street        0\n",
       "Utilities     0\n",
       "CentralAir    0\n",
       "dtype: int64"
      ]
     },
     "execution_count": 14,
     "metadata": {},
     "output_type": "execute_result"
    }
   ],
   "source": [
    "df[catg_2_features].isnull().sum()"
   ]
  },
  {
   "cell_type": "code",
   "execution_count": 15,
   "id": "separated-hamburg",
   "metadata": {},
   "outputs": [],
   "source": [
    "for feature in catg_2_features:\n",
    "    df[feature]=(df[feature]==df[feature].value_counts().keys()[0]).astype(int)\n",
    "    "
   ]
  },
  {
   "cell_type": "code",
   "execution_count": 16,
   "id": "expanded-albania",
   "metadata": {},
   "outputs": [],
   "source": [
    "numerical_features_2 = [feature for feature in df.columns if df[feature].dtypes != 'O']"
   ]
  },
  {
   "cell_type": "code",
   "execution_count": 17,
   "id": "durable-picnic",
   "metadata": {},
   "outputs": [
    {
     "data": {
      "text/plain": [
       "50.617283950617285"
      ]
     },
     "execution_count": 17,
     "metadata": {},
     "output_type": "execute_result"
    }
   ],
   "source": [
    "len(numerical_features_2)/df.shape[1]*100"
   ]
  },
  {
   "cell_type": "code",
   "execution_count": 18,
   "id": "spare-settle",
   "metadata": {},
   "outputs": [],
   "source": [
    "df_n=df[numerical_features_2]"
   ]
  },
  {
   "cell_type": "code",
   "execution_count": 19,
   "id": "thirty-practitioner",
   "metadata": {},
   "outputs": [
    {
     "data": {
      "text/plain": [
       "(1460, 41)"
      ]
     },
     "execution_count": 19,
     "metadata": {},
     "output_type": "execute_result"
    }
   ],
   "source": [
    "df_n.shape"
   ]
  },
  {
   "cell_type": "code",
   "execution_count": 20,
   "id": "protecting-salmon",
   "metadata": {},
   "outputs": [
    {
     "data": {
      "text/plain": [
       "Id                 0\n",
       "MSSubClass         0\n",
       "LotFrontage      259\n",
       "LotArea            0\n",
       "Street             0\n",
       "Utilities          0\n",
       "OverallQual        0\n",
       "OverallCond        0\n",
       "YearBuilt          0\n",
       "YearRemodAdd       0\n",
       "MasVnrArea         8\n",
       "BsmtFinSF1         0\n",
       "BsmtFinSF2         0\n",
       "BsmtUnfSF          0\n",
       "TotalBsmtSF        0\n",
       "CentralAir         0\n",
       "1stFlrSF           0\n",
       "2ndFlrSF           0\n",
       "LowQualFinSF       0\n",
       "GrLivArea          0\n",
       "BsmtFullBath       0\n",
       "BsmtHalfBath       0\n",
       "FullBath           0\n",
       "HalfBath           0\n",
       "BedroomAbvGr       0\n",
       "KitchenAbvGr       0\n",
       "TotRmsAbvGrd       0\n",
       "Fireplaces         0\n",
       "GarageYrBlt       81\n",
       "GarageCars         0\n",
       "GarageArea         0\n",
       "WoodDeckSF         0\n",
       "OpenPorchSF        0\n",
       "EnclosedPorch      0\n",
       "3SsnPorch          0\n",
       "ScreenPorch        0\n",
       "PoolArea           0\n",
       "MiscVal            0\n",
       "MoSold             0\n",
       "YrSold             0\n",
       "SalePrice          0\n",
       "dtype: int64"
      ]
     },
     "execution_count": 20,
     "metadata": {},
     "output_type": "execute_result"
    }
   ],
   "source": [
    "df_n.isnull().sum()"
   ]
  },
  {
   "cell_type": "code",
   "execution_count": 21,
   "id": "looking-healing",
   "metadata": {},
   "outputs": [],
   "source": [
    "nan_features_df_n=[feature for feature in df_n.columns if (df_n[feature].isnull().sum())>0]"
   ]
  },
  {
   "cell_type": "code",
   "execution_count": 22,
   "id": "bronze-penguin",
   "metadata": {},
   "outputs": [
    {
     "data": {
      "text/plain": [
       "['LotFrontage', 'MasVnrArea', 'GarageYrBlt']"
      ]
     },
     "execution_count": 22,
     "metadata": {},
     "output_type": "execute_result"
    }
   ],
   "source": [
    "nan_features_df_n"
   ]
  },
  {
   "cell_type": "code",
   "execution_count": 23,
   "id": "concerned-convergence",
   "metadata": {},
   "outputs": [],
   "source": [
    "year_features= [feature for feature in numerical_features_2 if 'Yr' in feature or 'Year' in feature]"
   ]
  },
  {
   "cell_type": "code",
   "execution_count": 24,
   "id": "suspected-missouri",
   "metadata": {},
   "outputs": [
    {
     "data": {
      "text/plain": [
       "['YearBuilt', 'YearRemodAdd', 'GarageYrBlt', 'YrSold']"
      ]
     },
     "execution_count": 24,
     "metadata": {},
     "output_type": "execute_result"
    }
   ],
   "source": [
    "year_features"
   ]
  },
  {
   "cell_type": "code",
   "execution_count": 25,
   "id": "literary-canal",
   "metadata": {},
   "outputs": [],
   "source": [
    "non_year_features=[feature for feature in numerical_features_2 if feature not in year_features]"
   ]
  },
  {
   "cell_type": "code",
   "execution_count": 26,
   "id": "optical-guitar",
   "metadata": {},
   "outputs": [
    {
     "data": {
      "text/plain": [
       "37"
      ]
     },
     "execution_count": 26,
     "metadata": {},
     "output_type": "execute_result"
    }
   ],
   "source": [
    "len(non_year_features)"
   ]
  },
  {
   "cell_type": "markdown",
   "id": "becoming-making",
   "metadata": {},
   "source": [
    "### handling with missing values two options"
   ]
  },
  {
   "cell_type": "markdown",
   "id": "interracial-street",
   "metadata": {},
   "source": [
    "***option:1 filling missing values with zero and recheking***"
   ]
  },
  {
   "cell_type": "code",
   "execution_count": 27,
   "id": "equal-tours",
   "metadata": {},
   "outputs": [],
   "source": [
    "#df_n=df_n.fillna(0)"
   ]
  },
  {
   "cell_type": "code",
   "execution_count": 28,
   "id": "shaped-maximum",
   "metadata": {},
   "outputs": [],
   "source": [
    "#(df_n.isnull().sum()==0).value_counts()"
   ]
  },
  {
   "cell_type": "markdown",
   "id": "latter-robertson",
   "metadata": {},
   "source": [
    "***option:2 droping missing values***"
   ]
  },
  {
   "cell_type": "code",
   "execution_count": 29,
   "id": "latter-associate",
   "metadata": {},
   "outputs": [],
   "source": [
    "df_n=df_n.dropna()"
   ]
  },
  {
   "cell_type": "code",
   "execution_count": 30,
   "id": "invisible-optimization",
   "metadata": {},
   "outputs": [
    {
     "data": {
      "text/plain": [
       "True    41\n",
       "dtype: int64"
      ]
     },
     "execution_count": 30,
     "metadata": {},
     "output_type": "execute_result"
    }
   ],
   "source": [
    "(df_n.isnull().sum()==0).value_counts()"
   ]
  },
  {
   "cell_type": "code",
   "execution_count": 31,
   "id": "leading-theater",
   "metadata": {},
   "outputs": [],
   "source": [
    "dropped_rows=len(df)-len(df_n)"
   ]
  },
  {
   "cell_type": "code",
   "execution_count": 32,
   "id": "polar-launch",
   "metadata": {},
   "outputs": [
    {
     "data": {
      "text/plain": [
       "339"
      ]
     },
     "execution_count": 32,
     "metadata": {},
     "output_type": "execute_result"
    }
   ],
   "source": [
    "dropped_rows"
   ]
  },
  {
   "cell_type": "code",
   "execution_count": 33,
   "id": "casual-rates",
   "metadata": {},
   "outputs": [
    {
     "data": {
      "text/plain": [
       "1121"
      ]
     },
     "execution_count": 33,
     "metadata": {},
     "output_type": "execute_result"
    }
   ],
   "source": [
    "rows_in_use=len(df)-dropped_rows\n",
    "rows_in_use"
   ]
  },
  {
   "cell_type": "code",
   "execution_count": 34,
   "id": "european-correction",
   "metadata": {},
   "outputs": [
    {
     "data": {
      "text/plain": [
       "76.78082191780821"
      ]
     },
     "execution_count": 34,
     "metadata": {},
     "output_type": "execute_result"
    }
   ],
   "source": [
    "rows_in_use_percentage=rows_in_use/len(df)*100\n",
    "rows_in_use_percentage"
   ]
  },
  {
   "cell_type": "code",
   "execution_count": 35,
   "id": "spiritual-chart",
   "metadata": {},
   "outputs": [
    {
     "data": {
      "text/plain": [
       "27459"
      ]
     },
     "execution_count": 35,
     "metadata": {},
     "output_type": "execute_result"
    }
   ],
   "source": [
    "dropped_cells=dropped_rows*df.shape[1]\n",
    "dropped_cells"
   ]
  },
  {
   "cell_type": "code",
   "execution_count": 36,
   "id": "satellite-southwest",
   "metadata": {},
   "outputs": [
    {
     "data": {
      "text/plain": [
       "90801"
      ]
     },
     "execution_count": 36,
     "metadata": {},
     "output_type": "execute_result"
    }
   ],
   "source": [
    "cells_in_use=total_cells-dropped_cells\n",
    "cells_in_use"
   ]
  },
  {
   "cell_type": "code",
   "execution_count": 37,
   "id": "searching-tenant",
   "metadata": {},
   "outputs": [
    {
     "data": {
      "text/plain": [
       "76.78082191780821"
      ]
     },
     "execution_count": 37,
     "metadata": {},
     "output_type": "execute_result"
    }
   ],
   "source": [
    "cells_in_use_percentage=cells_in_use/total_cells*100\n",
    "cells_in_use_percentage"
   ]
  },
  {
   "cell_type": "markdown",
   "id": "automated-harvest",
   "metadata": {},
   "source": [
    "### excloding year features and ID"
   ]
  },
  {
   "cell_type": "code",
   "execution_count": 38,
   "id": "subject-acoustic",
   "metadata": {},
   "outputs": [],
   "source": [
    "df_n=df_n[non_year_features]"
   ]
  },
  {
   "cell_type": "code",
   "execution_count": 39,
   "id": "qualified-duration",
   "metadata": {},
   "outputs": [],
   "source": [
    "#df_n=df_n.drop(year_features,axis='columns')"
   ]
  },
  {
   "cell_type": "code",
   "execution_count": 40,
   "id": "entire-pencil",
   "metadata": {},
   "outputs": [],
   "source": [
    "df_n=df_n.drop(['Id'],axis='columns')"
   ]
  },
  {
   "cell_type": "markdown",
   "id": "portable-desktop",
   "metadata": {},
   "source": [
    "### cheking for relationship in features"
   ]
  },
  {
   "cell_type": "code",
   "execution_count": 41,
   "id": "manual-howard",
   "metadata": {},
   "outputs": [],
   "source": [
    "c_matrix=df_n.corr()"
   ]
  },
  {
   "cell_type": "code",
   "execution_count": 42,
   "id": "guided-madagascar",
   "metadata": {},
   "outputs": [],
   "source": [
    "# import seaborn as sns\n",
    "# import matplotlib.pyplot as plt\n",
    "# #get correlations of each features in dataset\n",
    "# top_corr_features = c_matrix.index\n",
    "# plt.figure(figsize=(20,20))\n",
    "# #plot heat map\n",
    "# g=sns.heatmap(df_n[top_corr_features].corr(),annot=True,cmap=\"RdYlGn\")"
   ]
  },
  {
   "cell_type": "code",
   "execution_count": 43,
   "id": "general-lafayette",
   "metadata": {},
   "outputs": [],
   "source": [
    "c_matrix_2=df_n[catg_2_features+['SalePrice']].corr()"
   ]
  },
  {
   "cell_type": "code",
   "execution_count": 44,
   "id": "familiar-mexican",
   "metadata": {},
   "outputs": [
    {
     "data": {
      "text/plain": [
       "SalePrice     1.000000\n",
       "CentralAir    0.219974\n",
       "Street        0.055601\n",
       "Utilities          NaN\n",
       "Name: SalePrice, dtype: float64"
      ]
     },
     "execution_count": 44,
     "metadata": {},
     "output_type": "execute_result"
    }
   ],
   "source": [
    "c_matrix_2['SalePrice'].sort_values(ascending=False)"
   ]
  },
  {
   "cell_type": "code",
   "execution_count": 45,
   "id": "thousand-honduras",
   "metadata": {},
   "outputs": [],
   "source": [
    "import seaborn as sns\n",
    "#sns.relplot(x=\"CentralAir\",y=\"SalePrice\",data=df_n,kind='line')"
   ]
  },
  {
   "cell_type": "code",
   "execution_count": 46,
   "id": "productive-labor",
   "metadata": {},
   "outputs": [],
   "source": [
    "#sns.relplot(x=\"Street\",y=\"SalePrice\",data=df_n,kind='line')"
   ]
  },
  {
   "cell_type": "code",
   "execution_count": 47,
   "id": "cultural-tulsa",
   "metadata": {},
   "outputs": [],
   "source": [
    "#sns.relplot(x=\"Utilities\",y=\"SalePrice\",data=df_n,kind='line')"
   ]
  },
  {
   "cell_type": "code",
   "execution_count": 48,
   "id": "designing-channels",
   "metadata": {},
   "outputs": [
    {
     "data": {
      "text/plain": [
       "36"
      ]
     },
     "execution_count": 48,
     "metadata": {},
     "output_type": "execute_result"
    }
   ],
   "source": [
    "len(c_matrix)"
   ]
  },
  {
   "cell_type": "code",
   "execution_count": 49,
   "id": "determined-watch",
   "metadata": {},
   "outputs": [
    {
     "data": {
      "text/plain": [
       "SalePrice        1.000000\n",
       "OverallQual      0.797881\n",
       "GrLivArea        0.705154\n",
       "GarageCars       0.647034\n",
       "GarageArea       0.619330\n",
       "TotalBsmtSF      0.615612\n",
       "1stFlrSF         0.607969\n",
       "FullBath         0.566627\n",
       "TotRmsAbvGrd     0.547067\n",
       "MasVnrArea       0.488658\n",
       "Fireplaces       0.461873\n",
       "BsmtFinSF1       0.390301\n",
       "LotFrontage      0.344270\n",
       "OpenPorchSF      0.343354\n",
       "WoodDeckSF       0.336855\n",
       "2ndFlrSF         0.306879\n",
       "LotArea          0.299962\n",
       "HalfBath         0.268560\n",
       "BsmtFullBath     0.236737\n",
       "CentralAir       0.219974\n",
       "BsmtUnfSF        0.213129\n",
       "BedroomAbvGr     0.166814\n",
       "ScreenPorch      0.110427\n",
       "PoolArea         0.092488\n",
       "Street           0.055601\n",
       "MoSold           0.051568\n",
       "3SsnPorch        0.030777\n",
       "LowQualFinSF    -0.001482\n",
       "BsmtFinSF2      -0.028021\n",
       "MiscVal         -0.036041\n",
       "BsmtHalfBath    -0.036513\n",
       "MSSubClass      -0.088032\n",
       "OverallCond     -0.124391\n",
       "KitchenAbvGr    -0.140497\n",
       "EnclosedPorch   -0.154843\n",
       "Utilities             NaN\n",
       "Name: SalePrice, dtype: float64"
      ]
     },
     "execution_count": 49,
     "metadata": {},
     "output_type": "execute_result"
    }
   ],
   "source": [
    "c_matrix['SalePrice'].sort_values(ascending=False)"
   ]
  },
  {
   "cell_type": "code",
   "execution_count": 50,
   "id": "wrong-acquisition",
   "metadata": {},
   "outputs": [],
   "source": [
    "# import seaborn as sns\n",
    "# import matplotlib.pyplot as plt\n",
    "# #get correlations of each features in dataset\n",
    "# top_corr_features = c_matrix.index\n",
    "# plt.figure(figsize=(20,20))\n",
    "# #plot heat map\n",
    "# g=sns.heatmap(df_n[top_corr_features].corr()['SalePrice'],annot=True,cmap=\"RdYlGn\")"
   ]
  },
  {
   "cell_type": "code",
   "execution_count": 51,
   "id": "collected-three",
   "metadata": {},
   "outputs": [],
   "source": [
    "# import seaborn as sns\n",
    "# sns.pairplot(df_n)"
   ]
  },
  {
   "cell_type": "code",
   "execution_count": 52,
   "id": "speaking-demographic",
   "metadata": {},
   "outputs": [],
   "source": [
    "#c_matrix['SalePrice'].sort_values(ascending=False).keys()"
   ]
  },
  {
   "cell_type": "code",
   "execution_count": 53,
   "id": "blind-newman",
   "metadata": {},
   "outputs": [],
   "source": [
    "#c_matrix['SalePrice']['FullBath']"
   ]
  },
  {
   "cell_type": "code",
   "execution_count": 54,
   "id": "documented-activity",
   "metadata": {},
   "outputs": [],
   "source": [
    "plus_fifty_features=[]\n",
    "for feature in c_matrix['SalePrice'].sort_values(ascending=False).keys():\n",
    "    if c_matrix['SalePrice'][feature]>=0.50:\n",
    "        plus_fifty_features.append(feature)       "
   ]
  },
  {
   "cell_type": "code",
   "execution_count": 55,
   "id": "worthy-furniture",
   "metadata": {},
   "outputs": [],
   "source": [
    "plus_fifty_features.remove('SalePrice')"
   ]
  },
  {
   "cell_type": "code",
   "execution_count": 56,
   "id": "advanced-candle",
   "metadata": {},
   "outputs": [
    {
     "data": {
      "text/plain": [
       "['OverallQual',\n",
       " 'GrLivArea',\n",
       " 'GarageCars',\n",
       " 'GarageArea',\n",
       " 'TotalBsmtSF',\n",
       " '1stFlrSF',\n",
       " 'FullBath',\n",
       " 'TotRmsAbvGrd']"
      ]
     },
     "execution_count": 56,
     "metadata": {},
     "output_type": "execute_result"
    }
   ],
   "source": [
    "plus_fifty_features"
   ]
  },
  {
   "cell_type": "code",
   "execution_count": 57,
   "id": "comparable-array",
   "metadata": {},
   "outputs": [
    {
     "data": {
      "text/plain": [
       "8"
      ]
     },
     "execution_count": 57,
     "metadata": {},
     "output_type": "execute_result"
    }
   ],
   "source": [
    "len(plus_fifty_features)"
   ]
  },
  {
   "cell_type": "code",
   "execution_count": 58,
   "id": "comfortable-bones",
   "metadata": {},
   "outputs": [
    {
     "data": {
      "text/plain": [
       "SalePrice       1.000000\n",
       "OverallQual     0.797881\n",
       "GrLivArea       0.705154\n",
       "GarageCars      0.647034\n",
       "GarageArea      0.619330\n",
       "TotalBsmtSF     0.615612\n",
       "1stFlrSF        0.607969\n",
       "FullBath        0.566627\n",
       "TotRmsAbvGrd    0.547067\n",
       "Name: SalePrice, dtype: float64"
      ]
     },
     "execution_count": 58,
     "metadata": {},
     "output_type": "execute_result"
    }
   ],
   "source": [
    "c_matrix['SalePrice'].sort_values(ascending=False)[:9]"
   ]
  },
  {
   "cell_type": "code",
   "execution_count": 59,
   "id": "temporal-bruce",
   "metadata": {},
   "outputs": [],
   "source": [
    "df_8=df_n[plus_fifty_features]"
   ]
  },
  {
   "cell_type": "code",
   "execution_count": 60,
   "id": "simplified-black",
   "metadata": {},
   "outputs": [],
   "source": [
    "#sns.relplot(x=\"OverallQual\",y=\"SalePrice\",data=df_n,kind='line')"
   ]
  },
  {
   "cell_type": "code",
   "execution_count": 61,
   "id": "welsh-spanking",
   "metadata": {},
   "outputs": [],
   "source": [
    "#sns.relplot(x=\"PoolArea\",y=\"SalePrice\",data=df_n,kind='line')"
   ]
  },
  {
   "cell_type": "code",
   "execution_count": 62,
   "id": "commercial-japanese",
   "metadata": {},
   "outputs": [],
   "source": [
    "#sns.relplot(x=\"KitchenAbvGr\",y=\"SalePrice\",data=df_n,kind='line')"
   ]
  },
  {
   "cell_type": "markdown",
   "id": "straight-extent",
   "metadata": {},
   "source": [
    "### droping unrelevant or extra features and preparing independent X and dependent y features"
   ]
  },
  {
   "cell_type": "code",
   "execution_count": 63,
   "id": "injured-threshold",
   "metadata": {},
   "outputs": [],
   "source": [
    "X_p=df_n.drop(['SalePrice','Street','Utilities'],axis='columns')\n",
    "X=df_8\n",
    "y=df_n['SalePrice']"
   ]
  },
  {
   "cell_type": "markdown",
   "id": "worldwide-apparel",
   "metadata": {},
   "source": [
    "### feature_importance"
   ]
  },
  {
   "cell_type": "code",
   "execution_count": 72,
   "id": "personalized-palace",
   "metadata": {},
   "outputs": [
    {
     "data": {
      "text/plain": [
       "ExtraTreesRegressor()"
      ]
     },
     "execution_count": 72,
     "metadata": {},
     "output_type": "execute_result"
    }
   ],
   "source": [
    "# Feature Importance\n",
    "from sklearn import metrics\n",
    "from sklearn.ensemble import ExtraTreesRegressor\n",
    "# fit an Extra Trees model to the data\n",
    "selection = ExtraTreesRegressor()\n",
    "selection.fit(X,y)"
   ]
  },
  {
   "cell_type": "code",
   "execution_count": 74,
   "id": "entertaining-bouquet",
   "metadata": {},
   "outputs": [
    {
     "name": "stdout",
     "output_type": "stream",
     "text": [
      "[0.35628851 0.10860421 0.21644987 0.05875518 0.07367618 0.06828862\n",
      " 0.07958527 0.03835216]\n"
     ]
    }
   ],
   "source": [
    "# display the relative importance of each attribute\n",
    "print(model.feature_importances_)"
   ]
  },
  {
   "cell_type": "markdown",
   "id": "offensive-brunei",
   "metadata": {},
   "source": [
    "### with cross validation cheking the accuracy of all regression models"
   ]
  },
  {
   "cell_type": "code",
   "execution_count": 64,
   "id": "designing-metadata",
   "metadata": {},
   "outputs": [
    {
     "data": {
      "text/html": [
       "<div>\n",
       "<style scoped>\n",
       "    .dataframe tbody tr th:only-of-type {\n",
       "        vertical-align: middle;\n",
       "    }\n",
       "\n",
       "    .dataframe tbody tr th {\n",
       "        vertical-align: top;\n",
       "    }\n",
       "\n",
       "    .dataframe thead th {\n",
       "        text-align: right;\n",
       "    }\n",
       "</style>\n",
       "<table border=\"1\" class=\"dataframe\">\n",
       "  <thead>\n",
       "    <tr style=\"text-align: right;\">\n",
       "      <th></th>\n",
       "      <th>LinearRegression()</th>\n",
       "      <th>DecisionTreeRegressor()</th>\n",
       "      <th>RandomForestRegressor()</th>\n",
       "    </tr>\n",
       "  </thead>\n",
       "  <tbody>\n",
       "    <tr>\n",
       "      <th>0</th>\n",
       "      <td>0.742991</td>\n",
       "      <td>0.706611</td>\n",
       "      <td>0.819223</td>\n",
       "    </tr>\n",
       "  </tbody>\n",
       "</table>\n",
       "</div>"
      ],
      "text/plain": [
       "   LinearRegression()  DecisionTreeRegressor()  RandomForestRegressor()\n",
       "0            0.742991                 0.706611                 0.819223"
      ]
     },
     "execution_count": 64,
     "metadata": {},
     "output_type": "execute_result"
    }
   ],
   "source": [
    "from sklearn.model_selection import cross_val_score\n",
    "from sklearn.linear_model import LinearRegression\n",
    "from sklearn.tree import DecisionTreeRegressor\n",
    "from sklearn.ensemble import RandomForestRegressor\n",
    "model_scoring={}\n",
    "def all_model_scores(model,X,y):\n",
    "    scores=cross_val_score(model,X,y,cv=10)\n",
    "    mean_score=scores.mean()\n",
    "    model_scoring.update({model:mean_score})\n",
    "    return model_scoring\n",
    "Model_list=[LinearRegression(),DecisionTreeRegressor(),RandomForestRegressor()]\n",
    "for model in Model_list:\n",
    "    score_dict=all_model_scores(model,X,y)\n",
    "df_Models_scores=pd.DataFrame(score_dict,index=[0])\n",
    "df_Models_scores"
   ]
  },
  {
   "cell_type": "raw",
   "id": "contemporary-milan",
   "metadata": {},
   "source": [
    "NOTE:\n",
    "Average score is droped to 73% by removing features ,'OverallQual','GrLivArea',\n",
    "\n",
    "below experiments is performed on RandomForestRegressor()\n",
    "cross validation score with 33 features (X_p) is  0.8526637671146133\n",
    "cross validation score with 8 features (df_8) is  0.8243050235720837\n",
    "cross validation score with 8 features (df_8) by droping nan is 0.8189568877523141"
   ]
  },
  {
   "cell_type": "markdown",
   "id": "included-anatomy",
   "metadata": {},
   "source": [
    "### spliting into test and train data"
   ]
  },
  {
   "cell_type": "code",
   "execution_count": 65,
   "id": "capable-wound",
   "metadata": {},
   "outputs": [],
   "source": [
    "\n",
    "from sklearn.model_selection import train_test_split\n",
    "X_train, X_test, y_train, y_test = train_test_split(X, y, test_size=0.2,random_state=42)"
   ]
  },
  {
   "cell_type": "markdown",
   "id": "ahead-small",
   "metadata": {},
   "source": [
    "### percentage of X_p features out of total features"
   ]
  },
  {
   "cell_type": "code",
   "execution_count": 66,
   "id": "alert-african",
   "metadata": {},
   "outputs": [
    {
     "data": {
      "text/plain": [
       "40.74074074074074"
      ]
     },
     "execution_count": 66,
     "metadata": {},
     "output_type": "execute_result"
    }
   ],
   "source": [
    "X_p.shape[1]/df.shape[1]*100"
   ]
  },
  {
   "cell_type": "markdown",
   "id": "casual-edgar",
   "metadata": {},
   "source": [
    "### percentage features on which i train data out of total features"
   ]
  },
  {
   "cell_type": "code",
   "execution_count": 67,
   "id": "elegant-alberta",
   "metadata": {},
   "outputs": [
    {
     "data": {
      "text/plain": [
       "9.876543209876543"
      ]
     },
     "execution_count": 67,
     "metadata": {},
     "output_type": "execute_result"
    }
   ],
   "source": [
    "X_train.shape[1]/df.shape[1]*100"
   ]
  },
  {
   "cell_type": "markdown",
   "id": "different-license",
   "metadata": {},
   "source": [
    "### creating model and train data"
   ]
  },
  {
   "cell_type": "code",
   "execution_count": 68,
   "id": "conservative-mobile",
   "metadata": {},
   "outputs": [],
   "source": [
    "from sklearn.linear_model import LinearRegression\n",
    "from sklearn.tree import DecisionTreeRegressor\n",
    "from sklearn.ensemble import RandomForestRegressor\n",
    "#model = LinearRegression()\n",
    "#model = DecisionTreeRegressor()\n",
    "model = RandomForestRegressor()"
   ]
  },
  {
   "cell_type": "code",
   "execution_count": 69,
   "id": "exempt-drama",
   "metadata": {},
   "outputs": [
    {
     "data": {
      "text/plain": [
       "RandomForestRegressor()"
      ]
     },
     "execution_count": 69,
     "metadata": {},
     "output_type": "execute_result"
    }
   ],
   "source": [
    "model.fit(X_train,y_train)"
   ]
  },
  {
   "cell_type": "markdown",
   "id": "latest-curve",
   "metadata": {},
   "source": [
    "### train accuracy"
   ]
  },
  {
   "cell_type": "code",
   "execution_count": 70,
   "id": "polish-clause",
   "metadata": {},
   "outputs": [
    {
     "data": {
      "text/plain": [
       "0.9709654183521805"
      ]
     },
     "execution_count": 70,
     "metadata": {},
     "output_type": "execute_result"
    }
   ],
   "source": [
    "model.score(X_train,y_train)"
   ]
  },
  {
   "cell_type": "markdown",
   "id": "grave-rider",
   "metadata": {},
   "source": [
    "### test accuracy"
   ]
  },
  {
   "cell_type": "code",
   "execution_count": 71,
   "id": "brutal-factory",
   "metadata": {},
   "outputs": [
    {
     "data": {
      "text/plain": [
       "0.8735402468704049"
      ]
     },
     "execution_count": 71,
     "metadata": {},
     "output_type": "execute_result"
    }
   ],
   "source": [
    "model.score(X_test,y_test)"
   ]
  },
  {
   "cell_type": "markdown",
   "id": "commercial-daughter",
   "metadata": {},
   "source": [
    "### MSE and RMSE"
   ]
  },
  {
   "cell_type": "code",
   "execution_count": 72,
   "id": "willing-crown",
   "metadata": {},
   "outputs": [
    {
     "name": "stdout",
     "output_type": "stream",
     "text": [
      "997428663.4914621\n",
      "31582.09403271832\n"
     ]
    }
   ],
   "source": [
    "from sklearn.metrics import mean_squared_error\n",
    "import numpy as np\n",
    "predictions = model.predict(X_test)\n",
    "mse = mean_squared_error(y_test,predictions)\n",
    "rmse = np.sqrt(mse)\n",
    "print(mse)\n",
    "print(rmse)"
   ]
  },
  {
   "cell_type": "raw",
   "id": "literary-pioneer",
   "metadata": {},
   "source": [
    "Note:\n",
    "linear regression:\n",
    "\n",
    "RMSE for train = 34792.170942290504\n",
    "RMSE for test = 36880.3515243915\n",
    "\n",
    "Decision tree regression:\n",
    "\n",
    "RMSE for train:171.72822188499134\n",
    "RMSE for test:42497.741521135686\n",
    "\n",
    "Random Forest Regression:\n",
    "\n",
    "RMSE for train= 12234.364640796199\n",
    "RMSE for test = 29212.728361099045\n",
    "\n",
    "for applying df_8 for training of data RMSE is not more affected it remains around 30000\n",
    "by dropping nan on df_8 RMSE is 31994.817898919227"
   ]
  },
  {
   "cell_type": "markdown",
   "id": "owned-communist",
   "metadata": {},
   "source": [
    "### cheking predictions on X_test and comparing difference"
   ]
  },
  {
   "cell_type": "code",
   "execution_count": 73,
   "id": "primary-application",
   "metadata": {},
   "outputs": [
    {
     "name": "stdout",
     "output_type": "stream",
     "text": [
      "[130649. 152462. 138549. 120792. 144754.]\n",
      "[140000, 150750, 157000, 138000, 144000]\n",
      "[ 9351. -1712. 18451. 17208.  -754.]\n"
     ]
    }
   ],
   "source": [
    "import numpy as np\n",
    "y_pred=model.predict(X_test.iloc[:5])\n",
    "y_pred=np.round(y_pred)\n",
    "y_true=list(y_test.iloc[:5])\n",
    "diff=y_true-y_pred\n",
    "print(y_pred)\n",
    "print(y_true)\n",
    "print(diff)"
   ]
  },
  {
   "cell_type": "markdown",
   "id": "opening-location",
   "metadata": {},
   "source": [
    "### saving model using pickle"
   ]
  },
  {
   "cell_type": "code",
   "execution_count": 74,
   "id": "apart-shopper",
   "metadata": {},
   "outputs": [],
   "source": [
    "import pickle\n",
    "pickle.dump(model, open('Random_forest_regressor.pkl','wb'))"
   ]
  },
  {
   "cell_type": "markdown",
   "id": "sought-thomas",
   "metadata": {},
   "source": [
    "### loading model for predictions"
   ]
  },
  {
   "cell_type": "code",
   "execution_count": 75,
   "id": "lesbian-meaning",
   "metadata": {},
   "outputs": [],
   "source": [
    "model_ = pickle.load(open('Random_forest_regressor.pkl','rb'))"
   ]
  },
  {
   "cell_type": "code",
   "execution_count": 76,
   "id": "adolescent-yellow",
   "metadata": {},
   "outputs": [
    {
     "name": "stdout",
     "output_type": "stream",
     "text": [
      "[130648.68516667]\n"
     ]
    }
   ],
   "source": [
    "print(model_.predict([[6,1072,2,525,547,1072,2,5]]))"
   ]
  },
  {
   "cell_type": "code",
   "execution_count": 77,
   "id": "forward-austria",
   "metadata": {},
   "outputs": [
    {
     "data": {
      "text/plain": [
       "130648.68516666668"
      ]
     },
     "execution_count": 77,
     "metadata": {},
     "output_type": "execute_result"
    }
   ],
   "source": [
    "(model.predict(X_test))[0]"
   ]
  },
  {
   "cell_type": "raw",
   "id": "valuable-focus",
   "metadata": {},
   "source": [
    "Note their is difference of predictions in every same model"
   ]
  }
 ],
 "metadata": {
  "kernelspec": {
   "display_name": "Python 3",
   "language": "python",
   "name": "python3"
  },
  "language_info": {
   "codemirror_mode": {
    "name": "ipython",
    "version": 3
   },
   "file_extension": ".py",
   "mimetype": "text/x-python",
   "name": "python",
   "nbconvert_exporter": "python",
   "pygments_lexer": "ipython3",
   "version": "3.9.1"
  }
 },
 "nbformat": 4,
 "nbformat_minor": 5
}
